{
 "cells": [
  {
   "cell_type": "markdown",
   "metadata": {},
   "source": [
    "# Exercise on Mixture exercises and some\n",
    "\n",
    "### António Rebelo (55761) & Marco Mercier (55877)"
   ]
  },
  {
   "cell_type": "markdown",
   "metadata": {},
   "source": [
    "## Exercise 1 - AdaBoost"
   ]
  },
  {
   "cell_type": "code",
   "execution_count": 1,
   "metadata": {},
   "outputs": [],
   "source": [
    "import pandas as pd\n",
    "import numpy as np"
   ]
  },
  {
   "cell_type": "markdown",
   "metadata": {},
   "source": [
    "### Data Cleaning"
   ]
  },
  {
   "cell_type": "code",
   "execution_count": 2,
   "metadata": {},
   "outputs": [],
   "source": [
    "raw_data = pd.read_csv('breast-cancer-wisconsin.data',names=['id','clump_thickness','cell_uniformity',\n",
    "                                                             'marginal_adhesion','cell_size','bare_nuclei',\n",
    "                                                             'chromatin','nucleoli','mitoses','class'])"
   ]
  },
  {
   "cell_type": "code",
   "execution_count": 3,
   "metadata": {},
   "outputs": [],
   "source": [
    "raw_data.drop('id',axis=1,inplace=True)"
   ]
  },
  {
   "cell_type": "code",
   "execution_count": 4,
   "metadata": {
    "scrolled": true
   },
   "outputs": [
    {
     "data": {
      "text/plain": [
       "clump_thickness       int64\n",
       "cell_uniformity       int64\n",
       "marginal_adhesion     int64\n",
       "cell_size             int64\n",
       "bare_nuclei          object\n",
       "chromatin             int64\n",
       "nucleoli              int64\n",
       "mitoses               int64\n",
       "class                 int64\n",
       "dtype: object"
      ]
     },
     "execution_count": 4,
     "metadata": {},
     "output_type": "execute_result"
    }
   ],
   "source": [
    "raw_data.dtypes"
   ]
  },
  {
   "cell_type": "markdown",
   "metadata": {},
   "source": [
    "Bare_nuclei has missing values that come in the form of '?'. Let's replace them by the mean"
   ]
  },
  {
   "cell_type": "code",
   "execution_count": 5,
   "metadata": {},
   "outputs": [],
   "source": [
    "mean = raw_data.bare_nuclei[raw_data.bare_nuclei!= '?'].astype(float).mean()\n",
    "\n",
    "raw_data.bare_nuclei = raw_data.bare_nuclei.replace('?',mean).astype(float)"
   ]
  },
  {
   "cell_type": "markdown",
   "metadata": {},
   "source": [
    "define the target variable and seperate it."
   ]
  },
  {
   "cell_type": "code",
   "execution_count": 6,
   "metadata": {},
   "outputs": [],
   "source": [
    "target = raw_data['class'].copy()\n",
    "data = raw_data.drop('class',axis = 1)"
   ]
  },
  {
   "cell_type": "code",
   "execution_count": 7,
   "metadata": {},
   "outputs": [],
   "source": [
    "target = target.apply(lambda x: 1 if x == 4 else 0)"
   ]
  },
  {
   "cell_type": "markdown",
   "metadata": {},
   "source": [
    "## Training \n",
    "* Exercise 1: use a regression model to classify (logistic regression) and record the accuracy\n",
    "* Exercise 2: use AdaBoost with 7 logistic regression base learner experts and compare results"
   ]
  },
  {
   "cell_type": "code",
   "execution_count": 8,
   "metadata": {},
   "outputs": [],
   "source": [
    "from sklearn.linear_model import LogisticRegression\n",
    "from sklearn.ensemble import AdaBoostClassifier\n",
    "from sklearn import model_selection\n",
    "alg1 = LogisticRegression()\n",
    "alg2 = AdaBoostClassifier(base_estimator= LogisticRegression(),n_estimators = 7)"
   ]
  },
  {
   "cell_type": "markdown",
   "metadata": {},
   "source": [
    "For Logistic Regression"
   ]
  },
  {
   "cell_type": "code",
   "execution_count": 9,
   "metadata": {},
   "outputs": [
    {
     "data": {
      "text/html": [
       "<div>\n",
       "<style scoped>\n",
       "    .dataframe tbody tr th:only-of-type {\n",
       "        vertical-align: middle;\n",
       "    }\n",
       "\n",
       "    .dataframe tbody tr th {\n",
       "        vertical-align: top;\n",
       "    }\n",
       "\n",
       "    .dataframe thead th {\n",
       "        text-align: right;\n",
       "    }\n",
       "</style>\n",
       "<table border=\"1\" class=\"dataframe\">\n",
       "  <thead>\n",
       "    <tr style=\"text-align: right;\">\n",
       "      <th></th>\n",
       "      <th>Mean F1</th>\n",
       "      <th>Mean Accuracy</th>\n",
       "    </tr>\n",
       "  </thead>\n",
       "  <tbody>\n",
       "    <tr>\n",
       "      <th>0</th>\n",
       "      <td>0.943342</td>\n",
       "      <td>0.959286</td>\n",
       "    </tr>\n",
       "  </tbody>\n",
       "</table>\n",
       "</div>"
      ],
      "text/plain": [
       "    Mean F1  Mean Accuracy\n",
       "0  0.943342       0.959286"
      ]
     },
     "execution_count": 9,
     "metadata": {},
     "output_type": "execute_result"
    }
   ],
   "source": [
    "#set up cross validation\n",
    "cv_split = model_selection.ShuffleSplit(n_splits = 10, test_size = .2, train_size = .8, random_state = 0 )\n",
    "#train the Logistic Regression model\n",
    "cv_results = (model_selection.cross_validate(alg1, data, target, cv  = cv_split, \n",
    "                                                    scoring = ['f1','accuracy'], n_jobs =-1))\n",
    "\n",
    "\n",
    "pd.DataFrame({\"Mean F1\": [cv_results['test_f1'].mean()] ,\"Mean Accuracy\":[cv_results['test_accuracy'].mean()] })"
   ]
  },
  {
   "cell_type": "markdown",
   "metadata": {},
   "source": [
    "For AdaBoost with Logistic Regression and 7 estimators"
   ]
  },
  {
   "cell_type": "code",
   "execution_count": 10,
   "metadata": {},
   "outputs": [
    {
     "data": {
      "text/html": [
       "<div>\n",
       "<style scoped>\n",
       "    .dataframe tbody tr th:only-of-type {\n",
       "        vertical-align: middle;\n",
       "    }\n",
       "\n",
       "    .dataframe tbody tr th {\n",
       "        vertical-align: top;\n",
       "    }\n",
       "\n",
       "    .dataframe thead th {\n",
       "        text-align: right;\n",
       "    }\n",
       "</style>\n",
       "<table border=\"1\" class=\"dataframe\">\n",
       "  <thead>\n",
       "    <tr style=\"text-align: right;\">\n",
       "      <th></th>\n",
       "      <th>Mean F1</th>\n",
       "      <th>Mean Accuracy</th>\n",
       "    </tr>\n",
       "  </thead>\n",
       "  <tbody>\n",
       "    <tr>\n",
       "      <th>0</th>\n",
       "      <td>0.938643</td>\n",
       "      <td>0.956429</td>\n",
       "    </tr>\n",
       "  </tbody>\n",
       "</table>\n",
       "</div>"
      ],
      "text/plain": [
       "    Mean F1  Mean Accuracy\n",
       "0  0.938643       0.956429"
      ]
     },
     "execution_count": 10,
     "metadata": {},
     "output_type": "execute_result"
    }
   ],
   "source": [
    "\n",
    "cv_split = model_selection.ShuffleSplit(n_splits = 10, test_size = .2, train_size = .8, random_state = 0 )\n",
    "cv_results = (model_selection.cross_validate(alg2, data, target, cv  = cv_split, \n",
    "                                                    scoring = ['f1','accuracy'], n_jobs =-1))\n",
    "\n",
    "\n",
    "pd.DataFrame({\"Mean F1\": [cv_results['test_f1'].mean()] ,\"Mean Accuracy\":[cv_results['test_accuracy'].mean()] })"
   ]
  },
  {
   "cell_type": "markdown",
   "metadata": {},
   "source": [
    "### Take-aways\n",
    "* The results vary only very slightly\n",
    "* The accuracy of the LogisticRegression alone is higher, but the f1 score, an arguably more important metric in this case, is better in AdaBoost\n"
   ]
  },
  {
   "cell_type": "markdown",
   "metadata": {},
   "source": [
    "### Part 2\n",
    "* Exercise 3: compare with other numbers of experts (ex. 3, 10)\n",
    "\n",
    "* Exercise 4: repeat 2 and 3 with decision tree base learner experts"
   ]
  },
  {
   "cell_type": "markdown",
   "metadata": {},
   "source": [
    "Now increasing the estimators with Logistic Regression as base classifier"
   ]
  },
  {
   "cell_type": "code",
   "execution_count": 11,
   "metadata": {},
   "outputs": [
    {
     "data": {
      "text/html": [
       "<div>\n",
       "<style scoped>\n",
       "    .dataframe tbody tr th:only-of-type {\n",
       "        vertical-align: middle;\n",
       "    }\n",
       "\n",
       "    .dataframe tbody tr th {\n",
       "        vertical-align: top;\n",
       "    }\n",
       "\n",
       "    .dataframe thead th {\n",
       "        text-align: right;\n",
       "    }\n",
       "</style>\n",
       "<table border=\"1\" class=\"dataframe\">\n",
       "  <thead>\n",
       "    <tr style=\"text-align: right;\">\n",
       "      <th></th>\n",
       "      <th>n_estimators</th>\n",
       "      <th>Mean F1</th>\n",
       "      <th>Mean Accuracy</th>\n",
       "    </tr>\n",
       "  </thead>\n",
       "  <tbody>\n",
       "    <tr>\n",
       "      <th>3</th>\n",
       "      <td>3.0</td>\n",
       "      <td>0.936088</td>\n",
       "      <td>0.957143</td>\n",
       "    </tr>\n",
       "    <tr>\n",
       "      <th>4</th>\n",
       "      <td>4.0</td>\n",
       "      <td>0.935138</td>\n",
       "      <td>0.956667</td>\n",
       "    </tr>\n",
       "    <tr>\n",
       "      <th>5</th>\n",
       "      <td>5.0</td>\n",
       "      <td>0.936659</td>\n",
       "      <td>0.957619</td>\n",
       "    </tr>\n",
       "    <tr>\n",
       "      <th>6</th>\n",
       "      <td>6.0</td>\n",
       "      <td>0.938357</td>\n",
       "      <td>0.958571</td>\n",
       "    </tr>\n",
       "    <tr>\n",
       "      <th>7</th>\n",
       "      <td>7.0</td>\n",
       "      <td>0.938357</td>\n",
       "      <td>0.958571</td>\n",
       "    </tr>\n",
       "    <tr>\n",
       "      <th>8</th>\n",
       "      <td>8.0</td>\n",
       "      <td>0.938357</td>\n",
       "      <td>0.958571</td>\n",
       "    </tr>\n",
       "    <tr>\n",
       "      <th>9</th>\n",
       "      <td>9.0</td>\n",
       "      <td>0.936924</td>\n",
       "      <td>0.957619</td>\n",
       "    </tr>\n",
       "    <tr>\n",
       "      <th>10</th>\n",
       "      <td>10.0</td>\n",
       "      <td>0.936924</td>\n",
       "      <td>0.957619</td>\n",
       "    </tr>\n",
       "  </tbody>\n",
       "</table>\n",
       "</div>"
      ],
      "text/plain": [
       "    n_estimators   Mean F1  Mean Accuracy\n",
       "3            3.0  0.936088       0.957143\n",
       "4            4.0  0.935138       0.956667\n",
       "5            5.0  0.936659       0.957619\n",
       "6            6.0  0.938357       0.958571\n",
       "7            7.0  0.938357       0.958571\n",
       "8            8.0  0.938357       0.958571\n",
       "9            9.0  0.936924       0.957619\n",
       "10          10.0  0.936924       0.957619"
      ]
     },
     "execution_count": 11,
     "metadata": {},
     "output_type": "execute_result"
    }
   ],
   "source": [
    "MLA_compare = pd.DataFrame()\n",
    "for n_estimators in range(3,11):\n",
    "    alg = AdaBoostClassifier(base_estimator= LogisticRegression(),n_estimators = n_estimators)\n",
    "    \n",
    "    cv_split = model_selection.ShuffleSplit(n_splits = 10, test_size = .3, train_size = .7, random_state = 0 )\n",
    "    cv_results = (model_selection.cross_validate(alg, data, target, cv  = cv_split, \n",
    "                                                        scoring = ['f1','accuracy','recall','precision'], n_jobs =-1))\n",
    "\n",
    "    MLA_compare.loc[n_estimators, 'n_estimators'] = n_estimators\n",
    "    MLA_compare.loc[n_estimators, 'Mean F1'] = cv_results['test_f1'].mean()  \n",
    "    MLA_compare.loc[n_estimators, 'Mean Accuracy'] = cv_results['test_accuracy'].mean()\n",
    "    \n",
    "MLA_compare"
   ]
  },
  {
   "cell_type": "markdown",
   "metadata": {},
   "source": [
    "The results remain basically unaltered. Increasing the number of base estimators did very little to improve results."
   ]
  },
  {
   "cell_type": "markdown",
   "metadata": {},
   "source": [
    "## Decision Trees\n",
    "Now let's see what happens with Decision Tree base learners (the default option). First let's train the model alone."
   ]
  },
  {
   "cell_type": "code",
   "execution_count": 12,
   "metadata": {},
   "outputs": [],
   "source": [
    "from sklearn.tree import DecisionTreeClassifier\n",
    "alg3 = DecisionTreeClassifier()"
   ]
  },
  {
   "cell_type": "code",
   "execution_count": 13,
   "metadata": {},
   "outputs": [
    {
     "data": {
      "text/html": [
       "<div>\n",
       "<style scoped>\n",
       "    .dataframe tbody tr th:only-of-type {\n",
       "        vertical-align: middle;\n",
       "    }\n",
       "\n",
       "    .dataframe tbody tr th {\n",
       "        vertical-align: top;\n",
       "    }\n",
       "\n",
       "    .dataframe thead th {\n",
       "        text-align: right;\n",
       "    }\n",
       "</style>\n",
       "<table border=\"1\" class=\"dataframe\">\n",
       "  <thead>\n",
       "    <tr style=\"text-align: right;\">\n",
       "      <th></th>\n",
       "      <th>Mean F1</th>\n",
       "      <th>Mean Accuracy</th>\n",
       "    </tr>\n",
       "  </thead>\n",
       "  <tbody>\n",
       "    <tr>\n",
       "      <th>0</th>\n",
       "      <td>0.92334</td>\n",
       "      <td>0.945</td>\n",
       "    </tr>\n",
       "  </tbody>\n",
       "</table>\n",
       "</div>"
      ],
      "text/plain": [
       "   Mean F1  Mean Accuracy\n",
       "0  0.92334          0.945"
      ]
     },
     "execution_count": 13,
     "metadata": {},
     "output_type": "execute_result"
    }
   ],
   "source": [
    "#set up cross validation\n",
    "cv_split = model_selection.ShuffleSplit(n_splits = 10, test_size = .2, train_size = .8, random_state = 0 )\n",
    "#train the Logistic Regression model\n",
    "cv_results = (model_selection.cross_validate(alg3, data, target, cv  = cv_split, \n",
    "                                                    scoring = ['f1','accuracy'], n_jobs =-1))\n",
    "\n",
    "\n",
    "pd.DataFrame({\"Mean F1\": [cv_results['test_f1'].mean()] ,\"Mean Accuracy\":[cv_results['test_accuracy'].mean()] })"
   ]
  },
  {
   "cell_type": "markdown",
   "metadata": {},
   "source": [
    "Now we use AdaBoost with a different number of learners"
   ]
  },
  {
   "cell_type": "code",
   "execution_count": 14,
   "metadata": {},
   "outputs": [
    {
     "data": {
      "text/html": [
       "<div>\n",
       "<style scoped>\n",
       "    .dataframe tbody tr th:only-of-type {\n",
       "        vertical-align: middle;\n",
       "    }\n",
       "\n",
       "    .dataframe tbody tr th {\n",
       "        vertical-align: top;\n",
       "    }\n",
       "\n",
       "    .dataframe thead th {\n",
       "        text-align: right;\n",
       "    }\n",
       "</style>\n",
       "<table border=\"1\" class=\"dataframe\">\n",
       "  <thead>\n",
       "    <tr style=\"text-align: right;\">\n",
       "      <th></th>\n",
       "      <th>n_estimators</th>\n",
       "      <th>Mean F1</th>\n",
       "      <th>Mean Accuracy</th>\n",
       "    </tr>\n",
       "  </thead>\n",
       "  <tbody>\n",
       "    <tr>\n",
       "      <th>3</th>\n",
       "      <td>3.0</td>\n",
       "      <td>0.904145</td>\n",
       "      <td>0.936667</td>\n",
       "    </tr>\n",
       "    <tr>\n",
       "      <th>4</th>\n",
       "      <td>4.0</td>\n",
       "      <td>0.904560</td>\n",
       "      <td>0.937143</td>\n",
       "    </tr>\n",
       "    <tr>\n",
       "      <th>5</th>\n",
       "      <td>5.0</td>\n",
       "      <td>0.908046</td>\n",
       "      <td>0.939524</td>\n",
       "    </tr>\n",
       "    <tr>\n",
       "      <th>6</th>\n",
       "      <td>6.0</td>\n",
       "      <td>0.914380</td>\n",
       "      <td>0.942857</td>\n",
       "    </tr>\n",
       "    <tr>\n",
       "      <th>7</th>\n",
       "      <td>7.0</td>\n",
       "      <td>0.914674</td>\n",
       "      <td>0.943333</td>\n",
       "    </tr>\n",
       "    <tr>\n",
       "      <th>8</th>\n",
       "      <td>8.0</td>\n",
       "      <td>0.927752</td>\n",
       "      <td>0.951429</td>\n",
       "    </tr>\n",
       "    <tr>\n",
       "      <th>9</th>\n",
       "      <td>9.0</td>\n",
       "      <td>0.933786</td>\n",
       "      <td>0.955238</td>\n",
       "    </tr>\n",
       "    <tr>\n",
       "      <th>10</th>\n",
       "      <td>10.0</td>\n",
       "      <td>0.934403</td>\n",
       "      <td>0.955238</td>\n",
       "    </tr>\n",
       "  </tbody>\n",
       "</table>\n",
       "</div>"
      ],
      "text/plain": [
       "    n_estimators   Mean F1  Mean Accuracy\n",
       "3            3.0  0.904145       0.936667\n",
       "4            4.0  0.904560       0.937143\n",
       "5            5.0  0.908046       0.939524\n",
       "6            6.0  0.914380       0.942857\n",
       "7            7.0  0.914674       0.943333\n",
       "8            8.0  0.927752       0.951429\n",
       "9            9.0  0.933786       0.955238\n",
       "10          10.0  0.934403       0.955238"
      ]
     },
     "execution_count": 14,
     "metadata": {},
     "output_type": "execute_result"
    }
   ],
   "source": [
    "MLA_compare = pd.DataFrame()\n",
    "for n_estimators in range(3,11):\n",
    "    alg = AdaBoostClassifier(n_estimators = n_estimators)\n",
    "    \n",
    "    cv_split = model_selection.ShuffleSplit(n_splits = 10, test_size = .3, train_size = .7, random_state = 0 )\n",
    "    cv_results = (model_selection.cross_validate(alg, data, target, cv  = cv_split, \n",
    "                                                        scoring = ['f1','accuracy','recall','precision'], n_jobs =-1))\n",
    "\n",
    "    MLA_compare.loc[n_estimators, 'n_estimators'] = n_estimators\n",
    "    MLA_compare.loc[n_estimators, 'Mean F1'] = cv_results['test_f1'].mean()  \n",
    "    MLA_compare.loc[n_estimators, 'Mean Accuracy'] = cv_results['test_accuracy'].mean()\n",
    "    \n",
    "MLA_compare"
   ]
  },
  {
   "cell_type": "markdown",
   "metadata": {},
   "source": [
    "### Take-aways\n",
    "* Contrarily to what happened with the logistic regression, in this case, increasing the number of estimators has a significant impact on performance, both relative models with less estimators and relative to the single DecisionTreeClassifier model.\n",
    "* AdaBoost benefits some base estimators more than others. In this case it was seen that Decision Trees work particularly well whereas Logistic regression not so much\n"
   ]
  },
  {
   "cell_type": "markdown",
   "metadata": {},
   "source": [
    "# Exercise 2 - K-means and SOM"
   ]
  },
  {
   "cell_type": "code",
   "execution_count": 15,
   "metadata": {},
   "outputs": [],
   "source": [
    "from sklearn.datasets import load_iris\n",
    "import seaborn as sns\n",
    "import matplotlib.pyplot as plt"
   ]
  },
  {
   "cell_type": "markdown",
   "metadata": {},
   "source": [
    "Lets load the iris dataset directly from sklearn datasets:"
   ]
  },
  {
   "cell_type": "code",
   "execution_count": 16,
   "metadata": {},
   "outputs": [],
   "source": [
    "iris = load_iris()\n",
    "X = iris.data\n",
    "y = iris.target"
   ]
  },
  {
   "cell_type": "markdown",
   "metadata": {},
   "source": [
    "Lets train test split so we can evaluate the performance of the models:"
   ]
  },
  {
   "cell_type": "code",
   "execution_count": 17,
   "metadata": {},
   "outputs": [],
   "source": [
    "from sklearn.model_selection import train_test_split\n",
    "\n",
    "X_train, X_test, y_train, y_test = train_test_split(X, y, random_state=0, stratify=y)"
   ]
  },
  {
   "cell_type": "code",
   "execution_count": 18,
   "metadata": {},
   "outputs": [],
   "source": [
    "def make_confusion_matrix(y_true, y_pred, y_train, y_pred_train, labels=iris.target_names, title=''):\n",
    "    '''function to create confusion matrices of both test an train.\n",
    "        The matrices have the accuracy of the model as text on the x_label\n",
    "    '''\n",
    "\n",
    "    fig, axes = plt.subplots(1,2, figsize=(15,5))\n",
    "\n",
    "    conf_mat = confusion_matrix(y_true,y_pred)\n",
    "    conf_mat_train = confusion_matrix(y_train, y_pred_train)\n",
    "\n",
    "    accuracy  = np.trace(conf_mat) / float(np.sum(conf_mat))\n",
    "    accuracy_train  = np.trace(conf_mat_train) / float(np.sum(conf_mat_train))\n",
    "\n",
    "    stats_text = \"\\n\\n Accuracy={:0.3f}\".format(accuracy)\n",
    "    stats_text_train = \"\\n\\n Accuracy={:0.3f}\".format(accuracy_train)\n",
    "\n",
    "    # plot of test\n",
    "    sns.heatmap(conf_mat, annot=True, cmap='Blues', ax= axes.flat[0])\n",
    "    axes.flat[0].set(xlabel = 'Predicted' +  stats_text, ylabel = 'True', title = title + ' test')\n",
    "\n",
    "    # plot of train\n",
    "    sns.heatmap(conf_mat_train, annot=True, cmap='Blues', ax= axes.flat[1])\n",
    "    axes.flat[1].set(xlabel = 'Predicted' +  stats_text_train, ylabel = 'True', title = title + ' train ')\n",
    "\n",
    "    for ax in axes.flat:\n",
    "        ax.set_xticklabels(labels)\n",
    "        ax.set_yticklabels(labels)\n",
    "    plt.show()"
   ]
  },
  {
   "cell_type": "markdown",
   "metadata": {},
   "source": [
    "## 1) apply K-means to this data set, with K=3. Obtain the confusion matrix between cluster labels and true classes, and compute the accuracy."
   ]
  },
  {
   "cell_type": "code",
   "execution_count": 19,
   "metadata": {},
   "outputs": [],
   "source": [
    "from sklearn.cluster import KMeans\n",
    "import numpy as np\n",
    "from sklearn.metrics import confusion_matrix, accuracy_score"
   ]
  },
  {
   "cell_type": "code",
   "execution_count": 20,
   "metadata": {},
   "outputs": [
    {
     "data": {
      "image/png": "[encoded data removed]",
      "text/plain": [
       "<Figure size 1080x360 with 4 Axes>"
      ]
     },
     "metadata": {
      "needs_background": "light"
     },
     "output_type": "display_data"
    }
   ],
   "source": [
    "clf = KMeans(n_clusters=3, random_state=0)\n",
    "clf.fit(X_train,y_train)\n",
    "\n",
    "y_pred = clf.predict(X_test)\n",
    "y_pred_train = clf.predict(X_train)\n",
    "\n",
    "make_confusion_matrix(y_test,y_pred, y_train, y_pred_train)\n"
   ]
  },
  {
   "cell_type": "markdown",
   "metadata": {},
   "source": [
    "**Take-Aways:**\n",
    "\n",
    "* K-Means was able to  get 86.8% of accuracy in the test set\n",
    "* Although training accuracy is slighty higher than test accuracy, the different is so little that the model is considered to not overfit the training data"
   ]
  },
  {
   "cell_type": "markdown",
   "metadata": {},
   "source": [
    "## 2) similar to the previous point, apply Gaussian mixture model to this data set"
   ]
  },
  {
   "cell_type": "code",
   "execution_count": 21,
   "metadata": {},
   "outputs": [],
   "source": [
    "from sklearn.mixture import GaussianMixture"
   ]
  },
  {
   "cell_type": "code",
   "execution_count": 22,
   "metadata": {},
   "outputs": [
    {
     "data": {
      "image/png": "[encoded data removed]",
      "text/plain": [
       "<Figure size 1080x360 with 4 Axes>"
      ]
     },
     "metadata": {
      "needs_background": "light"
     },
     "output_type": "display_data"
    }
   ],
   "source": [
    "gmm = GaussianMixture(n_components=3, random_state=0)\n",
    "gmm.fit(X_train,y_train)\n",
    "\n",
    "y_pred_gmm = gmm.predict(X_test)\n",
    "\n",
    "make_confusion_matrix(y_test, y_pred_gmm, y_train, gmm.predict(X_train))"
   ]
  },
  {
   "cell_type": "markdown",
   "metadata": {},
   "source": [
    "**Take-Aways:**\n",
    "\n",
    "* GMM performed better than K-mean, with an accuracy of 92,1%\n",
    "* GMM has a higher accuracy score in the the training set so there's no overfit"
   ]
  },
  {
   "cell_type": "markdown",
   "metadata": {},
   "source": [
    "## 3) compare with SOM results (suggestion: use a map size of 20)"
   ]
  },
  {
   "cell_type": "code",
   "execution_count": 23,
   "metadata": {},
   "outputs": [],
   "source": [
    "import sompy"
   ]
  },
  {
   "cell_type": "code",
   "execution_count": 24,
   "metadata": {},
   "outputs": [],
   "source": [
    "# Lets train a SOM with 20x20 neurons\n",
    "mapsize = [20,20]\n",
    "\n",
    "som = sompy.SOMFactory.build(X_train, mapsize, mask=None, mapshape='planar', lattice='rect', \n",
    "                             normalization='var', initialization='pca', neighborhood='gaussian', \n",
    "                             training='batch', name='sompy')\n",
    "\n",
    "\n",
    "som.train(n_job=-1, verbose=0)\n",
    "cl = som.cluster(n_clusters=3) # definition of the number of clusters"
   ]
  },
  {
   "cell_type": "code",
   "execution_count": 25,
   "metadata": {},
   "outputs": [],
   "source": [
    "def predict_som(X, y_true, som):\n",
    "    ''' function to get the cluster label for X on a trained SOM.\n",
    "        Since the clusters numbers don't represent the class numbers, \n",
    "        the function seeks for the mode of the class inside each cluster to label the cluster\n",
    "    '''\n",
    "    px = som.project_data(X) # project the data into the SOM \n",
    "    y = []\n",
    "    for x in px: # get the cluster number of each sample\n",
    "        pred =  som.cluster_labels[x]\n",
    "        y.append(pred)\n",
    "    y =  np.array(y)    \n",
    "\n",
    "    # provide each cluster the mode label\n",
    "    from statistics import mode\n",
    "\n",
    "    y_labels = np.zeros_like(y)\n",
    "\n",
    "    for lab in range(3):\n",
    "        mask = (y == lab)\n",
    "        y_labels[mask] = mode(y_true[mask])         \n",
    "\n",
    "    return y_labels"
   ]
  },
  {
   "cell_type": "code",
   "execution_count": 26,
   "metadata": {},
   "outputs": [
    {
     "data": {
      "image/png": "[encoded data removed]",
      "text/plain": [
       "<Figure size 1080x360 with 4 Axes>"
      ]
     },
     "metadata": {
      "needs_background": "light"
     },
     "output_type": "display_data"
    }
   ],
   "source": [
    "y_pred_som = predict_som(X_test,y_test, som)\n",
    "y_pred_som_train = predict_som(X_train,y_train, som)\n",
    "\n",
    "make_confusion_matrix(y_test, y_pred_som, y_train, y_pred_som_train)"
   ]
  },
  {
   "cell_type": "markdown",
   "metadata": {},
   "source": [
    "**Take-Aways:**\n",
    "\n",
    "* SOM has 86.8% of accuracy in the test set, which is the same as K-means and that makes sense\n",
    "* The acuracy on the training set is 92.9% which could indicate an overfitting, while K-mean had no overfitting problems\n",
    "* The best model was **GMM**, with better accuracy and not overfitting of the data"
   ]
  }
 ],
 "metadata": {
  "kernelspec": {
   "display_name": "Python 3",
   "language": "python",
   "name": "python3"
  },
  "language_info": {
   "codemirror_mode": {
    "name": "ipython",
    "version": 3
   },
   "file_extension": ".py",
   "mimetype": "text/x-python",
   "name": "python",
   "nbconvert_exporter": "python",
   "pygments_lexer": "ipython3",
   "version": "3.7.9"
  }
 },
 "nbformat": 4,
 "nbformat_minor": 2
}
