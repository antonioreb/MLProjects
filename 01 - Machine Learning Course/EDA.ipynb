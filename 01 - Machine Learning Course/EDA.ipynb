{
 "cells": [
  {
   "cell_type": "markdown",
   "metadata": {},
   "source": [
    "# Notes on the variables"
   ]
  },
  {
   "cell_type": "markdown",
   "metadata": {},
   "source": [
    "## Introduction\n",
    "In this notebook we did research on the features of the data set and had a look at the data preprocessing necessary for our project. Based on this research, we made decisions concerning outlier treatment, imputation of missing values, binning, one-hot encoding, and scaling. Let's first understand the reason to use these processing measures.\n",
    "\n",
    "**Outlier treatment:**\n",
    "Data can have mistakes, deriving for multiple reasons. These outliers can have undesirable effects when analysing the data. As these outliers are mostly the result of (human) errors, we want to take these out. Therefore we apply an outlier treatment, namely capping our data set per feature. The cap is set at 3 standard deviations from the mean for every continuous variable (3 standard deviations below and above the mean).\n",
    "\n",
    "**Imputation of missing values:**\n",
    "Also known as gap-filling, this methods concerns artificially completing a data set by imputing missing values. Sometimes information is missing from certain instances of a data set. If this information is not all important, we don't simply want to remove the whole instance as there is still information available. What we did for missing values is to make an intelligent guess of the missing information. We decided on a method per feature.\n",
    "\n",
    "**Binning:**\n",
    "Binning is important for two reasons:\n",
    "* it makes computations a lot faster.\n",
    "* on a conceptual level binning categorizes a continuous variable. This makes it easy for the model to understand that variable. For example, we frequently do binning without realizing: when somebody says an album was released 1967 we automatically think it was released in the 60's and that in itself is a valuable piece of information.\n",
    "\n",
    "Binning was done for all continuous variables.\n",
    "\n",
    "**One-hot encoding:**\n",
    "Also known as label encoding, this method solves the issue of categorical values. Mostly, categorical values do not have a natural distance assigned. As most machine learning methods work with distances (less/greater or equal than), this is an obstacle. By one-hot-encoding, we solve this issue.\n",
    "\n",
    "**Scaling:**\n",
    "Some of our machine learning algorithms are based on finding the most 'similar' data point, where similaraity is measured by distances. If the domain of a certain feature is of a different scale than another, the impact of this feature on the distances between the data point will differ as well. For example, suppose we're looking at the weight in kg and the length in m of people. A difference of 0.30 kg we would consider as a minor difference, whereas a difference of 0.30 m, would be considered as a major difference. Still the impact on the distance between two points would be treated the same. Therefore we want to standardise the feature domains.\n",
    "\n",
    "The rest of this notebook will be take the reader through our findings and methods of preprocessing"
   ]
  },
  {
   "cell_type": "markdown",
   "metadata": {},
   "source": [
    "## Basic EDA"
   ]
  },
  {
   "cell_type": "code",
   "execution_count": 1,
   "metadata": {},
   "outputs": [
    {
     "name": "stdout",
     "output_type": "stream",
     "text": [
      "Pretty printing has been turned OFF\n"
     ]
    }
   ],
   "source": [
    "import pandas as pd\n",
    "import seaborn as sns\n",
    "import numpy as np\n",
    "import matplotlib.pyplot as plt\n",
    "from sklearn.preprocessing import LabelEncoder\n",
    "from scipy.stats import iqr\n",
    "%pprint #disables pretty printing to see printed lists horizontally\n",
    "%matplotlib inline\n",
    "pd.set_option(\"display.precision\",2)\n",
    "pd.set_option(\"display.max_rows\",30)\n",
    "pd.set_option(\"display.max_columns\",40)"
   ]
  },
  {
   "cell_type": "code",
   "execution_count": 2,
   "metadata": {},
   "outputs": [],
   "source": [
    "def df_reset():\n",
    "    global df,target,target_donation_amount\n",
    "    raw_df = pd.read_csv(\"Donors_dataset.csv\")\n",
    "    df = raw_df.drop([\"FILE_AVG_GIFT\",\"CONTROL_NUMBER\"],axis = 1).copy()\n",
    "    ordered_names = list(df.columns)\n",
    "    ordered_names.sort()\n",
    "    df = df[ordered_names]\n",
    "    #column names to lowercase\n",
    "    df.columns = df.columns.str.lower()\n",
    "    df.reset_index(inplace=True)\n",
    "    "
   ]
  },
  {
   "cell_type": "code",
   "execution_count": 3,
   "metadata": {},
   "outputs": [
    {
     "data": {
      "text/html": [
       "<div>\n",
       "<style scoped>\n",
       "    .dataframe tbody tr th:only-of-type {\n",
       "        vertical-align: middle;\n",
       "    }\n",
       "\n",
       "    .dataframe tbody tr th {\n",
       "        vertical-align: top;\n",
       "    }\n",
       "\n",
       "    .dataframe thead th {\n",
       "        text-align: right;\n",
       "    }\n",
       "</style>\n",
       "<table border=\"1\" class=\"dataframe\">\n",
       "  <thead>\n",
       "    <tr style=\"text-align: right;\">\n",
       "      <th></th>\n",
       "      <th>index</th>\n",
       "      <th>card_prom_12</th>\n",
       "      <th>donor_age</th>\n",
       "      <th>file_card_gift</th>\n",
       "      <th>frequency_status_97nk</th>\n",
       "      <th>income_group</th>\n",
       "      <th>in_house</th>\n",
       "      <th>last_gift_amt</th>\n",
       "      <th>lifetime_avg_gift_amt</th>\n",
       "      <th>lifetime_card_prom</th>\n",
       "      <th>lifetime_gift_amount</th>\n",
       "      <th>lifetime_gift_count</th>\n",
       "      <th>lifetime_gift_range</th>\n",
       "      <th>lifetime_max_gift_amt</th>\n",
       "      <th>lifetime_min_gift_amt</th>\n",
       "      <th>lifetime_prom</th>\n",
       "      <th>median_home_value</th>\n",
       "      <th>median_household_income</th>\n",
       "      <th>months_since_first_gift</th>\n",
       "      <th>months_since_last_gift</th>\n",
       "      <th>...</th>\n",
       "      <th>mor_hit_rate</th>\n",
       "      <th>number_prom_12</th>\n",
       "      <th>pct_attribute1</th>\n",
       "      <th>pct_attribute2</th>\n",
       "      <th>pct_attribute3</th>\n",
       "      <th>pct_attribute4</th>\n",
       "      <th>pct_owner_occupied</th>\n",
       "      <th>pep_star</th>\n",
       "      <th>per_capita_income</th>\n",
       "      <th>published_phone</th>\n",
       "      <th>recent_avg_card_gift_amt</th>\n",
       "      <th>recent_avg_gift_amt</th>\n",
       "      <th>recent_card_response_count</th>\n",
       "      <th>recent_card_response_prop</th>\n",
       "      <th>recent_response_count</th>\n",
       "      <th>recent_response_prop</th>\n",
       "      <th>recent_star_status</th>\n",
       "      <th>target_b</th>\n",
       "      <th>target_d</th>\n",
       "      <th>wealth_rating</th>\n",
       "    </tr>\n",
       "  </thead>\n",
       "  <tbody>\n",
       "    <tr>\n",
       "      <th>count</th>\n",
       "      <td>19372.00</td>\n",
       "      <td>19372.00</td>\n",
       "      <td>14577.00</td>\n",
       "      <td>19372.00</td>\n",
       "      <td>19372.00</td>\n",
       "      <td>14980.00</td>\n",
       "      <td>19372.00</td>\n",
       "      <td>19372.00</td>\n",
       "      <td>19372.00</td>\n",
       "      <td>19372.00</td>\n",
       "      <td>19372.00</td>\n",
       "      <td>19372.00</td>\n",
       "      <td>19372.00</td>\n",
       "      <td>19372.00</td>\n",
       "      <td>19372.00</td>\n",
       "      <td>19372.00</td>\n",
       "      <td>19372.00</td>\n",
       "      <td>19372.00</td>\n",
       "      <td>19372.00</td>\n",
       "      <td>19372.00</td>\n",
       "      <td>...</td>\n",
       "      <td>19372.00</td>\n",
       "      <td>19372.00</td>\n",
       "      <td>19372.00</td>\n",
       "      <td>19372.00</td>\n",
       "      <td>19372.00</td>\n",
       "      <td>19372.00</td>\n",
       "      <td>19372.00</td>\n",
       "      <td>19372.0</td>\n",
       "      <td>19372.00</td>\n",
       "      <td>19372.0</td>\n",
       "      <td>19372.00</td>\n",
       "      <td>19372.00</td>\n",
       "      <td>19372.00</td>\n",
       "      <td>19372.00</td>\n",
       "      <td>19372.00</td>\n",
       "      <td>19372.00</td>\n",
       "      <td>19372.00</td>\n",
       "      <td>19372.00</td>\n",
       "      <td>4843.00</td>\n",
       "      <td>10562.00</td>\n",
       "    </tr>\n",
       "    <tr>\n",
       "      <th>mean</th>\n",
       "      <td>9685.50</td>\n",
       "      <td>5.37</td>\n",
       "      <td>58.92</td>\n",
       "      <td>5.27</td>\n",
       "      <td>1.98</td>\n",
       "      <td>3.91</td>\n",
       "      <td>0.07</td>\n",
       "      <td>16.58</td>\n",
       "      <td>12.86</td>\n",
       "      <td>18.67</td>\n",
       "      <td>104.43</td>\n",
       "      <td>9.98</td>\n",
       "      <td>11.59</td>\n",
       "      <td>19.21</td>\n",
       "      <td>7.62</td>\n",
       "      <td>47.57</td>\n",
       "      <td>1079.87</td>\n",
       "      <td>341.97</td>\n",
       "      <td>69.48</td>\n",
       "      <td>18.19</td>\n",
       "      <td>...</td>\n",
       "      <td>3.36</td>\n",
       "      <td>12.90</td>\n",
       "      <td>1.03</td>\n",
       "      <td>30.57</td>\n",
       "      <td>29.60</td>\n",
       "      <td>32.85</td>\n",
       "      <td>69.70</td>\n",
       "      <td>0.5</td>\n",
       "      <td>15857.33</td>\n",
       "      <td>0.5</td>\n",
       "      <td>11.69</td>\n",
       "      <td>15.37</td>\n",
       "      <td>1.73</td>\n",
       "      <td>0.23</td>\n",
       "      <td>3.04</td>\n",
       "      <td>0.19</td>\n",
       "      <td>0.93</td>\n",
       "      <td>0.25</td>\n",
       "      <td>15.62</td>\n",
       "      <td>5.01</td>\n",
       "    </tr>\n",
       "    <tr>\n",
       "      <th>std</th>\n",
       "      <td>5592.36</td>\n",
       "      <td>1.26</td>\n",
       "      <td>16.67</td>\n",
       "      <td>4.61</td>\n",
       "      <td>1.10</td>\n",
       "      <td>1.86</td>\n",
       "      <td>0.26</td>\n",
       "      <td>11.98</td>\n",
       "      <td>8.79</td>\n",
       "      <td>8.56</td>\n",
       "      <td>105.72</td>\n",
       "      <td>8.69</td>\n",
       "      <td>15.12</td>\n",
       "      <td>16.10</td>\n",
       "      <td>7.96</td>\n",
       "      <td>22.95</td>\n",
       "      <td>960.75</td>\n",
       "      <td>164.21</td>\n",
       "      <td>37.57</td>\n",
       "      <td>4.03</td>\n",
       "      <td>...</td>\n",
       "      <td>9.50</td>\n",
       "      <td>4.64</td>\n",
       "      <td>4.92</td>\n",
       "      <td>11.42</td>\n",
       "      <td>15.12</td>\n",
       "      <td>17.84</td>\n",
       "      <td>21.71</td>\n",
       "      <td>0.5</td>\n",
       "      <td>8710.63</td>\n",
       "      <td>0.5</td>\n",
       "      <td>10.83</td>\n",
       "      <td>10.17</td>\n",
       "      <td>1.54</td>\n",
       "      <td>0.19</td>\n",
       "      <td>2.05</td>\n",
       "      <td>0.11</td>\n",
       "      <td>2.55</td>\n",
       "      <td>0.43</td>\n",
       "      <td>12.45</td>\n",
       "      <td>2.82</td>\n",
       "    </tr>\n",
       "    <tr>\n",
       "      <th>min</th>\n",
       "      <td>0.00</td>\n",
       "      <td>0.00</td>\n",
       "      <td>0.00</td>\n",
       "      <td>0.00</td>\n",
       "      <td>1.00</td>\n",
       "      <td>1.00</td>\n",
       "      <td>0.00</td>\n",
       "      <td>0.00</td>\n",
       "      <td>1.36</td>\n",
       "      <td>2.00</td>\n",
       "      <td>15.00</td>\n",
       "      <td>1.00</td>\n",
       "      <td>0.00</td>\n",
       "      <td>5.00</td>\n",
       "      <td>0.00</td>\n",
       "      <td>5.00</td>\n",
       "      <td>0.00</td>\n",
       "      <td>0.00</td>\n",
       "      <td>15.00</td>\n",
       "      <td>4.00</td>\n",
       "      <td>...</td>\n",
       "      <td>0.00</td>\n",
       "      <td>2.00</td>\n",
       "      <td>0.00</td>\n",
       "      <td>0.00</td>\n",
       "      <td>0.00</td>\n",
       "      <td>0.00</td>\n",
       "      <td>0.00</td>\n",
       "      <td>0.0</td>\n",
       "      <td>0.00</td>\n",
       "      <td>0.0</td>\n",
       "      <td>0.00</td>\n",
       "      <td>0.00</td>\n",
       "      <td>0.00</td>\n",
       "      <td>0.00</td>\n",
       "      <td>0.00</td>\n",
       "      <td>0.00</td>\n",
       "      <td>0.00</td>\n",
       "      <td>0.00</td>\n",
       "      <td>1.00</td>\n",
       "      <td>0.00</td>\n",
       "    </tr>\n",
       "    <tr>\n",
       "      <th>25%</th>\n",
       "      <td>4842.75</td>\n",
       "      <td>5.00</td>\n",
       "      <td>47.00</td>\n",
       "      <td>2.00</td>\n",
       "      <td>1.00</td>\n",
       "      <td>2.00</td>\n",
       "      <td>0.00</td>\n",
       "      <td>10.00</td>\n",
       "      <td>8.00</td>\n",
       "      <td>11.00</td>\n",
       "      <td>42.00</td>\n",
       "      <td>4.00</td>\n",
       "      <td>5.00</td>\n",
       "      <td>12.00</td>\n",
       "      <td>3.00</td>\n",
       "      <td>28.00</td>\n",
       "      <td>518.00</td>\n",
       "      <td>232.00</td>\n",
       "      <td>33.00</td>\n",
       "      <td>16.00</td>\n",
       "      <td>...</td>\n",
       "      <td>0.00</td>\n",
       "      <td>11.00</td>\n",
       "      <td>0.00</td>\n",
       "      <td>25.00</td>\n",
       "      <td>20.00</td>\n",
       "      <td>21.00</td>\n",
       "      <td>60.00</td>\n",
       "      <td>0.0</td>\n",
       "      <td>10869.00</td>\n",
       "      <td>0.0</td>\n",
       "      <td>5.00</td>\n",
       "      <td>10.00</td>\n",
       "      <td>1.00</td>\n",
       "      <td>0.10</td>\n",
       "      <td>2.00</td>\n",
       "      <td>0.10</td>\n",
       "      <td>0.00</td>\n",
       "      <td>0.00</td>\n",
       "      <td>10.00</td>\n",
       "      <td>3.00</td>\n",
       "    </tr>\n",
       "    <tr>\n",
       "      <th>50%</th>\n",
       "      <td>9685.50</td>\n",
       "      <td>6.00</td>\n",
       "      <td>60.00</td>\n",
       "      <td>4.00</td>\n",
       "      <td>2.00</td>\n",
       "      <td>4.00</td>\n",
       "      <td>0.00</td>\n",
       "      <td>15.00</td>\n",
       "      <td>11.20</td>\n",
       "      <td>18.00</td>\n",
       "      <td>79.00</td>\n",
       "      <td>8.00</td>\n",
       "      <td>10.00</td>\n",
       "      <td>16.00</td>\n",
       "      <td>5.00</td>\n",
       "      <td>47.00</td>\n",
       "      <td>747.00</td>\n",
       "      <td>311.00</td>\n",
       "      <td>65.00</td>\n",
       "      <td>18.00</td>\n",
       "      <td>...</td>\n",
       "      <td>0.00</td>\n",
       "      <td>12.00</td>\n",
       "      <td>0.00</td>\n",
       "      <td>31.00</td>\n",
       "      <td>29.00</td>\n",
       "      <td>32.00</td>\n",
       "      <td>76.00</td>\n",
       "      <td>1.0</td>\n",
       "      <td>13816.50</td>\n",
       "      <td>0.0</td>\n",
       "      <td>10.14</td>\n",
       "      <td>14.00</td>\n",
       "      <td>1.00</td>\n",
       "      <td>0.20</td>\n",
       "      <td>3.00</td>\n",
       "      <td>0.17</td>\n",
       "      <td>0.00</td>\n",
       "      <td>0.00</td>\n",
       "      <td>13.00</td>\n",
       "      <td>5.00</td>\n",
       "    </tr>\n",
       "    <tr>\n",
       "      <th>75%</th>\n",
       "      <td>14528.25</td>\n",
       "      <td>6.00</td>\n",
       "      <td>73.00</td>\n",
       "      <td>8.00</td>\n",
       "      <td>3.00</td>\n",
       "      <td>5.00</td>\n",
       "      <td>0.00</td>\n",
       "      <td>20.00</td>\n",
       "      <td>15.00</td>\n",
       "      <td>26.00</td>\n",
       "      <td>132.00</td>\n",
       "      <td>14.00</td>\n",
       "      <td>15.00</td>\n",
       "      <td>21.00</td>\n",
       "      <td>10.00</td>\n",
       "      <td>64.00</td>\n",
       "      <td>1227.00</td>\n",
       "      <td>417.00</td>\n",
       "      <td>105.00</td>\n",
       "      <td>20.00</td>\n",
       "      <td>...</td>\n",
       "      <td>3.00</td>\n",
       "      <td>13.00</td>\n",
       "      <td>0.00</td>\n",
       "      <td>37.00</td>\n",
       "      <td>39.00</td>\n",
       "      <td>43.00</td>\n",
       "      <td>85.00</td>\n",
       "      <td>1.0</td>\n",
       "      <td>18308.25</td>\n",
       "      <td>1.0</td>\n",
       "      <td>16.00</td>\n",
       "      <td>20.00</td>\n",
       "      <td>2.00</td>\n",
       "      <td>0.33</td>\n",
       "      <td>4.00</td>\n",
       "      <td>0.25</td>\n",
       "      <td>1.00</td>\n",
       "      <td>0.25</td>\n",
       "      <td>20.00</td>\n",
       "      <td>7.00</td>\n",
       "    </tr>\n",
       "    <tr>\n",
       "      <th>max</th>\n",
       "      <td>19371.00</td>\n",
       "      <td>17.00</td>\n",
       "      <td>87.00</td>\n",
       "      <td>41.00</td>\n",
       "      <td>4.00</td>\n",
       "      <td>7.00</td>\n",
       "      <td>1.00</td>\n",
       "      <td>450.00</td>\n",
       "      <td>450.00</td>\n",
       "      <td>56.00</td>\n",
       "      <td>3775.00</td>\n",
       "      <td>95.00</td>\n",
       "      <td>997.00</td>\n",
       "      <td>1000.00</td>\n",
       "      <td>450.00</td>\n",
       "      <td>194.00</td>\n",
       "      <td>6000.00</td>\n",
       "      <td>1500.00</td>\n",
       "      <td>260.00</td>\n",
       "      <td>27.00</td>\n",
       "      <td>...</td>\n",
       "      <td>241.00</td>\n",
       "      <td>64.00</td>\n",
       "      <td>97.00</td>\n",
       "      <td>99.00</td>\n",
       "      <td>99.00</td>\n",
       "      <td>99.00</td>\n",
       "      <td>99.00</td>\n",
       "      <td>1.0</td>\n",
       "      <td>174523.00</td>\n",
       "      <td>1.0</td>\n",
       "      <td>300.00</td>\n",
       "      <td>260.00</td>\n",
       "      <td>9.00</td>\n",
       "      <td>1.00</td>\n",
       "      <td>16.00</td>\n",
       "      <td>1.00</td>\n",
       "      <td>22.00</td>\n",
       "      <td>1.00</td>\n",
       "      <td>200.00</td>\n",
       "      <td>9.00</td>\n",
       "    </tr>\n",
       "  </tbody>\n",
       "</table>\n",
       "<p>8 rows × 42 columns</p>\n",
       "</div>"
      ],
      "text/plain": [
       "          index  card_prom_12  donor_age  file_card_gift  \\\n",
       "count  19372.00      19372.00   14577.00        19372.00   \n",
       "mean    9685.50          5.37      58.92            5.27   \n",
       "std     5592.36          1.26      16.67            4.61   \n",
       "min        0.00          0.00       0.00            0.00   \n",
       "25%     4842.75          5.00      47.00            2.00   \n",
       "50%     9685.50          6.00      60.00            4.00   \n",
       "75%    14528.25          6.00      73.00            8.00   \n",
       "max    19371.00         17.00      87.00           41.00   \n",
       "\n",
       "       frequency_status_97nk  income_group  in_house  last_gift_amt  \\\n",
       "count               19372.00      14980.00  19372.00       19372.00   \n",
       "mean                    1.98          3.91      0.07          16.58   \n",
       "std                     1.10          1.86      0.26          11.98   \n",
       "min                     1.00          1.00      0.00           0.00   \n",
       "25%                     1.00          2.00      0.00          10.00   \n",
       "50%                     2.00          4.00      0.00          15.00   \n",
       "75%                     3.00          5.00      0.00          20.00   \n",
       "max                     4.00          7.00      1.00         450.00   \n",
       "\n",
       "       lifetime_avg_gift_amt  lifetime_card_prom  lifetime_gift_amount  \\\n",
       "count               19372.00            19372.00              19372.00   \n",
       "mean                   12.86               18.67                104.43   \n",
       "std                     8.79                8.56                105.72   \n",
       "min                     1.36                2.00                 15.00   \n",
       "25%                     8.00               11.00                 42.00   \n",
       "50%                    11.20               18.00                 79.00   \n",
       "75%                    15.00               26.00                132.00   \n",
       "max                   450.00               56.00               3775.00   \n",
       "\n",
       "       lifetime_gift_count  lifetime_gift_range  lifetime_max_gift_amt  \\\n",
       "count             19372.00             19372.00               19372.00   \n",
       "mean                  9.98                11.59                  19.21   \n",
       "std                   8.69                15.12                  16.10   \n",
       "min                   1.00                 0.00                   5.00   \n",
       "25%                   4.00                 5.00                  12.00   \n",
       "50%                   8.00                10.00                  16.00   \n",
       "75%                  14.00                15.00                  21.00   \n",
       "max                  95.00               997.00                1000.00   \n",
       "\n",
       "       lifetime_min_gift_amt  lifetime_prom  median_home_value  \\\n",
       "count               19372.00       19372.00           19372.00   \n",
       "mean                    7.62          47.57            1079.87   \n",
       "std                     7.96          22.95             960.75   \n",
       "min                     0.00           5.00               0.00   \n",
       "25%                     3.00          28.00             518.00   \n",
       "50%                     5.00          47.00             747.00   \n",
       "75%                    10.00          64.00            1227.00   \n",
       "max                   450.00         194.00            6000.00   \n",
       "\n",
       "       median_household_income  months_since_first_gift  \\\n",
       "count                 19372.00                 19372.00   \n",
       "mean                    341.97                    69.48   \n",
       "std                     164.21                    37.57   \n",
       "min                       0.00                    15.00   \n",
       "25%                     232.00                    33.00   \n",
       "50%                     311.00                    65.00   \n",
       "75%                     417.00                   105.00   \n",
       "max                    1500.00                   260.00   \n",
       "\n",
       "       months_since_last_gift  ...  mor_hit_rate  number_prom_12  \\\n",
       "count                19372.00  ...      19372.00        19372.00   \n",
       "mean                    18.19  ...          3.36           12.90   \n",
       "std                      4.03  ...          9.50            4.64   \n",
       "min                      4.00  ...          0.00            2.00   \n",
       "25%                     16.00  ...          0.00           11.00   \n",
       "50%                     18.00  ...          0.00           12.00   \n",
       "75%                     20.00  ...          3.00           13.00   \n",
       "max                     27.00  ...        241.00           64.00   \n",
       "\n",
       "       pct_attribute1  pct_attribute2  pct_attribute3  pct_attribute4  \\\n",
       "count        19372.00        19372.00        19372.00        19372.00   \n",
       "mean             1.03           30.57           29.60           32.85   \n",
       "std              4.92           11.42           15.12           17.84   \n",
       "min              0.00            0.00            0.00            0.00   \n",
       "25%              0.00           25.00           20.00           21.00   \n",
       "50%              0.00           31.00           29.00           32.00   \n",
       "75%              0.00           37.00           39.00           43.00   \n",
       "max             97.00           99.00           99.00           99.00   \n",
       "\n",
       "       pct_owner_occupied  pep_star  per_capita_income  published_phone  \\\n",
       "count            19372.00   19372.0           19372.00          19372.0   \n",
       "mean                69.70       0.5           15857.33              0.5   \n",
       "std                 21.71       0.5            8710.63              0.5   \n",
       "min                  0.00       0.0               0.00              0.0   \n",
       "25%                 60.00       0.0           10869.00              0.0   \n",
       "50%                 76.00       1.0           13816.50              0.0   \n",
       "75%                 85.00       1.0           18308.25              1.0   \n",
       "max                 99.00       1.0          174523.00              1.0   \n",
       "\n",
       "       recent_avg_card_gift_amt  recent_avg_gift_amt  \\\n",
       "count                  19372.00             19372.00   \n",
       "mean                      11.69                15.37   \n",
       "std                       10.83                10.17   \n",
       "min                        0.00                 0.00   \n",
       "25%                        5.00                10.00   \n",
       "50%                       10.14                14.00   \n",
       "75%                       16.00                20.00   \n",
       "max                      300.00               260.00   \n",
       "\n",
       "       recent_card_response_count  recent_card_response_prop  \\\n",
       "count                    19372.00                   19372.00   \n",
       "mean                         1.73                       0.23   \n",
       "std                          1.54                       0.19   \n",
       "min                          0.00                       0.00   \n",
       "25%                          1.00                       0.10   \n",
       "50%                          1.00                       0.20   \n",
       "75%                          2.00                       0.33   \n",
       "max                          9.00                       1.00   \n",
       "\n",
       "       recent_response_count  recent_response_prop  recent_star_status  \\\n",
       "count               19372.00              19372.00            19372.00   \n",
       "mean                    3.04                  0.19                0.93   \n",
       "std                     2.05                  0.11                2.55   \n",
       "min                     0.00                  0.00                0.00   \n",
       "25%                     2.00                  0.10                0.00   \n",
       "50%                     3.00                  0.17                0.00   \n",
       "75%                     4.00                  0.25                1.00   \n",
       "max                    16.00                  1.00               22.00   \n",
       "\n",
       "       target_b  target_d  wealth_rating  \n",
       "count  19372.00   4843.00       10562.00  \n",
       "mean       0.25     15.62           5.01  \n",
       "std        0.43     12.45           2.82  \n",
       "min        0.00      1.00           0.00  \n",
       "25%        0.00     10.00           3.00  \n",
       "50%        0.00     13.00           5.00  \n",
       "75%        0.25     20.00           7.00  \n",
       "max        1.00    200.00           9.00  \n",
       "\n",
       "[8 rows x 42 columns]"
      ]
     },
     "execution_count": 3,
     "metadata": {},
     "output_type": "execute_result"
    }
   ],
   "source": [
    "df_reset()\n",
    "raw_df = pd.read_csv(\"Donors_dataset.csv\")\n",
    "df.describe()"
   ]
  },
  {
   "cell_type": "markdown",
   "metadata": {},
   "source": [
    "**LABEL ENCODING:** Used for exploring correlations"
   ]
  },
  {
   "cell_type": "code",
   "execution_count": 4,
   "metadata": {},
   "outputs": [],
   "source": [
    "def label_encode(df):\n",
    "    df_reset()\n",
    "    df.recency_status_96nk = df.recency_status_96nk.map( {'E':0,'L':1,'F':2, 'N':3, 'A':4, 'S':5} ).astype('int64')\n",
    "    df.frequency_status_97nk = df.frequency_status_97nk.map( {4:'A',3:'B',2:'C', 1:'D'} )\n",
    "    df['donor_gender'].values[df.donor_gender == 'A'] = 'F'\n",
    "    df.donor_gender = df.donor_gender.map( {'F': 1, 'M': 0,'U':3} ).astype('int64')\n",
    "    df.home_owner = df.home_owner.map( {'H': 1, 'U': 0} ).astype('int64')\n",
    "    df.overlay_source = df.overlay_source.map({'P':1, 'B':2, 'N':3, 'M':4})\n",
    "    df.urbanicity = df.urbanicity.map({'U':1,'C':2,'S':3,'T':4,'R':5,'?':6})\n",
    "    df['ses'].values[df.ses == '?'] = 5\n",
    "    df.ses = df.ses.astype('int64')\n",
    "    return df\n",
    "df_label_encoded =label_encode(df)"
   ]
  },
  {
   "cell_type": "markdown",
   "metadata": {},
   "source": [
    "A matrix with correlations"
   ]
  },
  {
   "cell_type": "code",
   "execution_count": 5,
   "metadata": {},
   "outputs": [
    {
     "data": {
      "image/png": "[encoded data removed]",
      "text/plain": [
       "<Figure size 864x648 with 2 Axes>"
      ]
     },
     "metadata": {
      "needs_background": "light"
     },
     "output_type": "display_data"
    }
   ],
   "source": [
    "sorted_df = raw_df.reindex(sorted(raw_df.columns), axis=1)\n",
    "corrmat = sorted_df.corr()\n",
    "f, ax = plt.subplots(figsize=(12, 9))\n",
    "sns.heatmap(corrmat, vmax=1., vmin=-.5, square=True);"
   ]
  },
  {
   "cell_type": "markdown",
   "metadata": {},
   "source": [
    "let's check the data types"
   ]
  },
  {
   "cell_type": "code",
   "execution_count": 6,
   "metadata": {},
   "outputs": [
    {
     "data": {
      "text/plain": [
       "index              int64\n",
       "card_prom_12       int64\n",
       "cluster_code      object\n",
       "donor_age        float64\n",
       "donor_gender      object\n",
       "                  ...   \n",
       "ses               object\n",
       "target_b           int64\n",
       "target_d         float64\n",
       "urbanicity        object\n",
       "wealth_rating    float64\n",
       "Length: 49, dtype: object"
      ]
     },
     "execution_count": 6,
     "metadata": {},
     "output_type": "execute_result"
    }
   ],
   "source": [
    "types = df.dtypes\n",
    "types"
   ]
  },
  {
   "cell_type": "markdown",
   "metadata": {},
   "source": [
    "#### Cluster_code analysis"
   ]
  },
  {
   "cell_type": "code",
   "execution_count": 7,
   "metadata": {
    "scrolled": true
   },
   "outputs": [
    {
     "data": {
      "text/plain": [
       "['.', '1', '10', '11', '12', '13', '14', '15', '16', '17', '18', '19', '2', '20', '21', '22', '23', '24', '25', '26', '27', '28', '29', '3', '30', '31', '32', '33', '34', '35', '36', '37', '38', '39', '4', '40', '41', '42', '43', '44', '45', '46', '47', '48', '49', '5', '50', '51', '52', '53', '6', '7', '8', '9']"
      ]
     },
     "execution_count": 7,
     "metadata": {},
     "output_type": "execute_result"
    }
   ],
   "source": [
    "unique_vals = df.cluster_code.unique()\n",
    "sorted(unique_vals)"
   ]
  },
  {
   "cell_type": "markdown",
   "metadata": {},
   "source": [
    "there's a messy '.' that should be addressed, so let's investigate"
   ]
  },
  {
   "cell_type": "code",
   "execution_count": 8,
   "metadata": {},
   "outputs": [
    {
     "data": {
      "text/plain": [
       "(454, 49)"
      ]
     },
     "execution_count": 8,
     "metadata": {},
     "output_type": "execute_result"
    }
   ],
   "source": [
    "df[(df.cluster_code =='.')].shape"
   ]
  },
  {
   "cell_type": "markdown",
   "metadata": {},
   "source": [
    "This variable highly correlates with urbanicity and ses values. Let's look into that. First let's look at the unique values of cluster code for each urbanicity value."
   ]
  },
  {
   "cell_type": "code",
   "execution_count": 9,
   "metadata": {},
   "outputs": [
    {
     "name": "stdout",
     "output_type": "stream",
     "text": [
      "Urbanicity   :   Unique cluster values\n",
      "U    :    ['1', '10', '2', '3', '4', '5', '6', '7', '8', '9']\n",
      "C    :    ['22', '23', '24', '25', '26', '27', '28', '29', '30', '31', '32', '33']\n",
      "S    :    ['11', '12', '13', '14', '15', '16', '17', '18', '19', '20', '21']\n",
      "T    :    ['34', '35', '36', '37', '38', '39', '40', '41']\n",
      "R    :    ['42', '43', '44', '45', '46', '47', '48', '49', '50', '51', '52', '53']\n",
      "?    :    ['.']\n"
     ]
    }
   ],
   "source": [
    "urban_values = ['U','C','S','T','R','?']\n",
    "urb_cluster = df[['urbanicity', 'cluster_code']]\n",
    "grouped = urb_cluster.groupby('urbanicity').groups\n",
    "print('Urbanicity   :   Unique cluster values')\n",
    "for key in urban_values:\n",
    "    print(key, '   :   ', sorted(urb_cluster.cluster_code.iloc[grouped[key]].unique()))\n"
   ]
  },
  {
   "cell_type": "markdown",
   "metadata": {},
   "source": [
    "clearly, there is straighforward connection between cluster_code and urbanicity. Let's how it relates to ses."
   ]
  },
  {
   "cell_type": "code",
   "execution_count": 10,
   "metadata": {},
   "outputs": [
    {
     "name": "stdout",
     "output_type": "stream",
     "text": [
      "1 : ['1', '11', '12', '13', '14', '15', '2', '22', '23', '24', '3', '34', '35', '42']\n",
      "2 : ['16', '17', '18', '19', '20', '25', '26', '27', '28', '29', '36', '37', '38', '39', '4', '40', '43', '44', '45', '46', '47', '48', '49', '5', '6', '7']\n",
      "3 : ['21', '30', '31', '32', '33', '41', '50', '51', '52', '53', '8', '9']\n",
      "4 : ['10']\n",
      "? : ['.']\n"
     ]
    }
   ],
   "source": [
    "ses_values = ['1', '2' , '3', '4','?']\n",
    "ses_cluster = df[['ses', 'cluster_code']]\n",
    "grouped = ses_cluster.groupby('ses').groups\n",
    "for key in ses_values:\n",
    "    print(key, ':', sorted(ses_cluster.cluster_code.iloc[grouped[key]].unique()))\n"
   ]
  },
  {
   "cell_type": "markdown",
   "metadata": {},
   "source": [
    "The relationship between these two values is not so obvious as with urbanicity. Still, each cluster_code value only corresponds to one value of ses. Also the values of '.' and '?' correspond to missing data in all three fields. This indicates that there might be some problem with those data points so they should not be imputed but given their own value. Even so, both approaches were tried and there was not a significant change in the results. One thing that should be noted is that urbanicity is then the corresponding of a binned version of cluster code, however the same doesn't hold for ses. Also, since there are many of cluster_code for each value of ses/urbanicity, cluster code probably has more information. \n"
   ]
  },
  {
   "cell_type": "code",
   "execution_count": 11,
   "metadata": {},
   "outputs": [
    {
     "name": "stdout",
     "output_type": "stream",
     "text": [
      "       index  card_prom_12 cluster_code  donor_age donor_gender  \\\n",
      "0          0             5            .       87.0            M   \n",
      "15        15             6            .       73.0            F   \n",
      "18        18            10            .        NaN            F   \n",
      "24        24             5            .       55.0            F   \n",
      "39        39             6            .        NaN            F   \n",
      "...      ...           ...          ...        ...          ...   \n",
      "19355  19355             7            .       80.0            F   \n",
      "19356  19356             9            .       74.0            M   \n",
      "19358  19358             5            .        NaN            U   \n",
      "19370  19370             7            .       78.0            M   \n",
      "19371  19371             4            .       70.0            M   \n",
      "\n",
      "       file_card_gift  frequency_status_97nk home_owner  income_group  \\\n",
      "0                   7                      1          H           2.0   \n",
      "15                 10                      2          U           5.0   \n",
      "18                 23                      4          U           NaN   \n",
      "24                  3                      1          H           4.0   \n",
      "39                  4                      1          U           NaN   \n",
      "...               ...                    ...        ...           ...   \n",
      "19355               9                      1          U           2.0   \n",
      "19356               8                      1          U           6.0   \n",
      "19358              12                      3          U           NaN   \n",
      "19370              11                      1          U           6.0   \n",
      "19371               1                      1          U           5.0   \n",
      "\n",
      "       in_house  last_gift_amt  lifetime_avg_gift_amt  lifetime_card_prom  \\\n",
      "0             0           15.0                   8.49                  19   \n",
      "15            0           10.0                   6.09                  38   \n",
      "18            0           11.0                   8.82                  46   \n",
      "24            0           19.0                  11.71                  19   \n",
      "39            0           15.0                   8.50                  22   \n",
      "...         ...            ...                    ...                 ...   \n",
      "19355         1           28.0                  21.85                  30   \n",
      "19356         1           15.0                  11.67                  27   \n",
      "19358         1            4.0                   4.09                  26   \n",
      "19370         1           25.0                  18.33                  31   \n",
      "19371         0           25.0                  25.00                   7   \n",
      "\n",
      "       lifetime_gift_amount  lifetime_gift_count  lifetime_gift_range  \\\n",
      "0                     297.0                   35                 15.0   \n",
      "15                    201.0                   33                  8.0   \n",
      "18                    670.0                   76                 17.0   \n",
      "24                    164.0                   14                 17.0   \n",
      "39                     85.0                   10                 10.0   \n",
      "...                     ...                  ...                  ...   \n",
      "19355                 437.0                   20                 25.0   \n",
      "19356                 175.0                   15                 20.0   \n",
      "19358                  90.0                   22                  4.0   \n",
      "19370                 440.0                   24                 20.0   \n",
      "19371                  25.0                    1                  0.0   \n",
      "\n",
      "       lifetime_max_gift_amt  lifetime_min_gift_amt  lifetime_prom  \\\n",
      "0                       20.0                    5.0             45   \n",
      "15                      10.0                    2.0             98   \n",
      "18                      20.0                    3.0            131   \n",
      "24                      20.0                    3.0             49   \n",
      "39                      15.0                    5.0             51   \n",
      "...                      ...                    ...            ...   \n",
      "19355                   30.0                    5.0             87   \n",
      "19356                   25.0                    5.0             82   \n",
      "19358                    6.0                    2.0             68   \n",
      "19370                   25.0                    5.0             99   \n",
      "19371                   25.0                   25.0             18   \n",
      "\n",
      "       median_home_value  ...  pct_attribute2  pct_attribute3  pct_attribute4  \\\n",
      "0                    554  ...               0               0               0   \n",
      "15                   706  ...               0               0               0   \n",
      "18                   910  ...               0               0               0   \n",
      "24                   490  ...               0               0               0   \n",
      "39                   343  ...               0               0               0   \n",
      "...                  ...  ...             ...             ...             ...   \n",
      "19355                318  ...              25              21              34   \n",
      "19356               1453  ...              76               7              67   \n",
      "19358                684  ...               0               0               0   \n",
      "19370               1861  ...               0               0               0   \n",
      "19371               1432  ...              62              13              61   \n",
      "\n",
      "       pct_owner_occupied  pep_star  per_capita_income  published_phone  \\\n",
      "0                      76         1              11855                0   \n",
      "15                     76         1              12426                0   \n",
      "18                     53         1              19388                0   \n",
      "24                     63         0               9807                0   \n",
      "39                     77         1               8371                0   \n",
      "...                   ...       ...                ...              ...   \n",
      "19355                  65         1               8799                1   \n",
      "19356                  97         1              24530                0   \n",
      "19358                  81         1              11763                1   \n",
      "19370                  84         1              22294                1   \n",
      "19371                  98         0              35544                1   \n",
      "\n",
      "      recency_status_96nk  recent_avg_card_gift_amt  recent_avg_gift_amt  \\\n",
      "0                       A                       0.0                15.00   \n",
      "15                      S                      10.0                 8.33   \n",
      "18                      S                      11.0                10.83   \n",
      "24                      A                       0.0                19.00   \n",
      "39                      A                       0.0                12.50   \n",
      "...                   ...                       ...                  ...   \n",
      "19355                   A                      25.0                26.50   \n",
      "19356                   A                      18.5                17.00   \n",
      "19358                   S                       4.0                 4.40   \n",
      "19370                   A                       0.0                25.00   \n",
      "19371                   N                      25.0                25.00   \n",
      "\n",
      "       recent_card_response_count  recent_card_response_prop  \\\n",
      "0                               0                       0.00   \n",
      "15                              1                       0.11   \n",
      "18                              4                       0.36   \n",
      "24                              0                       0.00   \n",
      "39                              0                       0.00   \n",
      "...                           ...                        ...   \n",
      "19355                           1                       0.10   \n",
      "19356                           2                       0.22   \n",
      "19358                           4                       0.50   \n",
      "19370                           0                       0.00   \n",
      "19371                           1                       0.25   \n",
      "\n",
      "       recent_response_count  recent_response_prop  recent_star_status  ses  \\\n",
      "0                          1                  0.07                   0    ?   \n",
      "15                         3                  0.15                   1    ?   \n",
      "18                        12                  0.55                   1    ?   \n",
      "24                         1                  0.07                   0    ?   \n",
      "39                         2                  0.12                   0    ?   \n",
      "...                      ...                   ...                 ...  ...   \n",
      "19355                      2                  0.10                   0    ?   \n",
      "19356                      3                  0.15                   3    ?   \n",
      "19358                      5                  0.28                   1    ?   \n",
      "19370                      1                  0.05                  14    ?   \n",
      "19371                      1                  0.10                   0    ?   \n",
      "\n",
      "      target_b  target_d  urbanicity  wealth_rating  \n",
      "0            0       NaN           ?            NaN  \n",
      "15           0       NaN           ?            9.0  \n",
      "18           0       NaN           ?            3.0  \n",
      "24           0       NaN           ?            NaN  \n",
      "39           0       NaN           ?            2.0  \n",
      "...        ...       ...         ...            ...  \n",
      "19355        1      15.0           ?            2.0  \n",
      "19356        0       NaN           ?            7.0  \n",
      "19358        0       NaN           ?            3.0  \n",
      "19370        0       NaN           ?            9.0  \n",
      "19371        1     150.0           ?            NaN  \n",
      "\n",
      "[454 rows x 49 columns]\n"
     ]
    }
   ],
   "source": [
    "weird_cluster_code_date = df[df.cluster_code == '.']\n",
    "print(weird_cluster_code_date)"
   ]
  },
  {
   "cell_type": "markdown",
   "metadata": {},
   "source": [
    "We finally decided to take out all the elements that have cluster code '.' as these points have weird data all over.\n",
    "\n",
    "Furthermore, no data preprocessing was necessary."
   ]
  },
  {
   "cell_type": "markdown",
   "metadata": {},
   "source": [
    "#### Donor gender"
   ]
  },
  {
   "cell_type": "code",
   "execution_count": 12,
   "metadata": {},
   "outputs": [
    {
     "data": {
      "text/plain": [
       "F    10401\n",
       "M     7953\n",
       "U     1017\n",
       "A        1\n",
       "Name: donor_gender, dtype: int64"
      ]
     },
     "execution_count": 12,
     "metadata": {},
     "output_type": "execute_result"
    }
   ],
   "source": [
    "df.donor_gender.value_counts()"
   ]
  },
  {
   "cell_type": "markdown",
   "metadata": {},
   "source": [
    "the values A and U are problematic. We impute A with F, and make U into it's own class of number 3."
   ]
  },
  {
   "cell_type": "code",
   "execution_count": 13,
   "metadata": {},
   "outputs": [],
   "source": [
    "#Imputation\n",
    "df['donor_gender'].values[df.donor_gender == 'A'] = 'F'"
   ]
  },
  {
   "cell_type": "markdown",
   "metadata": {},
   "source": [
    "Let's check everything is ok"
   ]
  },
  {
   "cell_type": "code",
   "execution_count": 14,
   "metadata": {},
   "outputs": [
    {
     "data": {
      "text/plain": [
       "F    10402\n",
       "M     7953\n",
       "U     1017\n",
       "Name: donor_gender, dtype: int64"
      ]
     },
     "execution_count": 14,
     "metadata": {},
     "output_type": "execute_result"
    }
   ],
   "source": [
    "df.donor_gender.value_counts()"
   ]
  },
  {
   "cell_type": "markdown",
   "metadata": {},
   "source": [
    "now let's put the gender into a binary variable"
   ]
  },
  {
   "cell_type": "code",
   "execution_count": 15,
   "metadata": {},
   "outputs": [],
   "source": [
    "df.donor_gender = df.donor_gender.map( {'F': 1, 'M': 0, 'U': 3} ).astype('int64')"
   ]
  },
  {
   "cell_type": "markdown",
   "metadata": {},
   "source": [
    "let's check what are the most correlated variables correlated"
   ]
  },
  {
   "cell_type": "code",
   "execution_count": 16,
   "metadata": {},
   "outputs": [
    {
     "data": {
      "text/plain": [
       "donor_gender             1.00\n",
       "home_owner               0.14\n",
       "published_phone          0.10\n",
       "overlay_source           0.10\n",
       "file_card_gift           0.05\n",
       "mor_hit_rate             0.05\n",
       "pct_owner_occupied       0.04\n",
       "lifetime_avg_gift_amt    0.04\n",
       "months_since_origin      0.04\n",
       "lifetime_min_gift_amt    0.04\n",
       "Name: donor_gender, dtype: float64"
      ]
     },
     "execution_count": 16,
     "metadata": {},
     "output_type": "execute_result"
    }
   ],
   "source": [
    "df_label_encoded.corr().abs()['donor_gender'].sort_values(ascending=False)[:10]"
   ]
  },
  {
   "cell_type": "code",
   "execution_count": 17,
   "metadata": {},
   "outputs": [],
   "source": [
    "df.home_owner = df.home_owner.map( {'H': 1, 'U': 0} ).astype('int64')"
   ]
  },
  {
   "cell_type": "code",
   "execution_count": 18,
   "metadata": {},
   "outputs": [
    {
     "data": {
      "text/plain": [
       "Text(0.5, 1.0, 'Fraction of home_owners by donor gender')"
      ]
     },
     "execution_count": 18,
     "metadata": {},
     "output_type": "execute_result"
    },
    {
     "data": {
      "image/png": "[encoded data removed]",
      "text/plain": [
       "<Figure size 432x288 with 1 Axes>"
      ]
     },
     "metadata": {
      "needs_background": "light"
     },
     "output_type": "display_data"
    }
   ],
   "source": [
    "sns.barplot(data= df,x='donor_gender',y='home_owner').set_title('Fraction of home_owners by donor gender')"
   ]
  },
  {
   "cell_type": "markdown",
   "metadata": {},
   "source": [
    "There is a very low correlation with all the variables and it is barely noticeable in the graph. Probably best to leave the U values as they are. Even so, an approach where the U values were imputed with the mode was also tried but it didn't yield better results"
   ]
  },
  {
   "cell_type": "markdown",
   "metadata": {},
   "source": [
    "#### Donor age"
   ]
  },
  {
   "cell_type": "code",
   "execution_count": 19,
   "metadata": {},
   "outputs": [
    {
     "data": {
      "text/plain": [
       "0        False\n",
       "1        False\n",
       "2        False\n",
       "3         True\n",
       "4        False\n",
       "         ...  \n",
       "19367    False\n",
       "19368    False\n",
       "19369     True\n",
       "19370    False\n",
       "19371    False\n",
       "Name: donor_age, Length: 19372, dtype: bool"
      ]
     },
     "execution_count": 19,
     "metadata": {},
     "output_type": "execute_result"
    }
   ],
   "source": [
    "df_reset()\n",
    "df.donor_age.isnull()"
   ]
  },
  {
   "cell_type": "markdown",
   "metadata": {},
   "source": [
    "Donor age has many missing values, we'll start out by imputing with the average, but first let's take a look at the variable"
   ]
  },
  {
   "cell_type": "code",
   "execution_count": 20,
   "metadata": {},
   "outputs": [],
   "source": [
    "df.donor_age.fillna(value=df.donor_age.mean(),inplace = True)"
   ]
  },
  {
   "cell_type": "markdown",
   "metadata": {},
   "source": [
    "there are some outliers that should be analyzed"
   ]
  },
  {
   "cell_type": "code",
   "execution_count": 21,
   "metadata": {
    "scrolled": true
   },
   "outputs": [],
   "source": [
    "#sorted(df.donor_age)[:100]"
   ]
  },
  {
   "cell_type": "markdown",
   "metadata": {},
   "source": [
    "probably there are no donors aged less than 5 years old and it is a mistake (pssibly even more, but since it will be binned it doesn't matter). For now, let's replace the values with the mean (should be mean of donors with age above 5 years old. Otherwise you include the \"wrong\" ages!)"
   ]
  },
  {
   "cell_type": "code",
   "execution_count": 22,
   "metadata": {},
   "outputs": [
    {
     "data": {
      "text/plain": [
       "donor_age                  1.00\n",
       "months_since_origin        0.24\n",
       "months_since_first_gift    0.24\n",
       "lifetime_prom              0.22\n",
       "lifetime_card_prom         0.22\n",
       "income_group               0.20\n",
       "lifetime_gift_count        0.20\n",
       "file_card_gift             0.19\n",
       "pct_attribute4             0.15\n",
       "pep_star                   0.14\n",
       "lifetime_gift_amount       0.13\n",
       "in_house                   0.12\n",
       "lifetime_min_gift_amt      0.12\n",
       "recency_status_96nk        0.12\n",
       "pct_attribute3             0.11\n",
       "Name: donor_age, dtype: float64"
      ]
     },
     "execution_count": 22,
     "metadata": {},
     "output_type": "execute_result"
    }
   ],
   "source": [
    "df_label_encoded.corr().abs()['donor_age'].sort_values(ascending=False)[:15]"
   ]
  },
  {
   "cell_type": "code",
   "execution_count": 23,
   "metadata": {},
   "outputs": [
    {
     "data": {
      "text/plain": [
       "0        (70, 90]\n",
       "1        (70, 90]\n",
       "2        (70, 90]\n",
       "3        (50, 70]\n",
       "4        (70, 90]\n",
       "           ...   \n",
       "19367    (50, 70]\n",
       "19368    (70, 90]\n",
       "19369    (50, 70]\n",
       "19370    (70, 90]\n",
       "19371    (50, 70]\n",
       "Name: donor_age, Length: 19372, dtype: category\n",
       "Categories (6, interval[int64]): [(0, 20] < (20, 30] < (30, 40] < (40, 50] < (50, 70] < (70, 90]]"
      ]
     },
     "execution_count": 23,
     "metadata": {},
     "output_type": "execute_result"
    }
   ],
   "source": [
    "pd.cut(df.donor_age,bins=[0,20,30,40,50,70,90])"
   ]
  },
  {
   "cell_type": "code",
   "execution_count": 24,
   "metadata": {},
   "outputs": [],
   "source": [
    "df['age_bin'] = pd.cut(df.donor_age,bins=[0,20,30,40,50,70,90])"
   ]
  },
  {
   "cell_type": "code",
   "execution_count": 25,
   "metadata": {},
   "outputs": [
    {
     "data": {
      "text/plain": [
       "<AxesSubplot:xlabel='age_bin', ylabel='months_since_origin'>"
      ]
     },
     "execution_count": 25,
     "metadata": {},
     "output_type": "execute_result"
    },
    {
     "data": {
      "image/png": "[encoded data removed]",
      "text/plain": [
       "<Figure size 432x288 with 1 Axes>"
      ]
     },
     "metadata": {
      "needs_background": "light"
     },
     "output_type": "display_data"
    }
   ],
   "source": [
    "sns.barplot(data=df,x=\"age_bin\",y=\"months_since_origin\")"
   ]
  },
  {
   "cell_type": "code",
   "execution_count": 26,
   "metadata": {},
   "outputs": [
    {
     "data": {
      "text/plain": [
       "Series([], Name: age_bin, dtype: category\n",
       "Categories (6, interval[int64]): [(0, 20] < (20, 30] < (30, 40] < (40, 50] < (50, 70] < (70, 90]])"
      ]
     },
     "execution_count": 26,
     "metadata": {},
     "output_type": "execute_result"
    }
   ],
   "source": [
    "df.age_bin[df.age_bin==0]"
   ]
  },
  {
   "cell_type": "code",
   "execution_count": 27,
   "metadata": {},
   "outputs": [],
   "source": [
    "df['age_bin'] = pd.cut(df.donor_age,bins=[0,20,30,40,50,70,80,90])"
   ]
  },
  {
   "cell_type": "code",
   "execution_count": 28,
   "metadata": {},
   "outputs": [
    {
     "data": {
      "text/plain": [
       "<AxesSubplot:xlabel='age_bin', ylabel='months_since_origin'>"
      ]
     },
     "execution_count": 28,
     "metadata": {},
     "output_type": "execute_result"
    },
    {
     "data": {
      "image/png": "[encoded data removed]",
      "text/plain": [
       "<Figure size 432x288 with 1 Axes>"
      ]
     },
     "metadata": {
      "needs_background": "light"
     },
     "output_type": "display_data"
    }
   ],
   "source": [
    "sns.barplot(data=df, x=\"age_bin\",y=\"months_since_origin\")"
   ]
  },
  {
   "cell_type": "markdown",
   "metadata": {},
   "source": [
    "this variable is nicely correlated with donor_age which means that it can be used in order to impute donor_age. However, there are a few problems with this relationship. First, the fact that there are  so many values bellow 20 in donor_age. In fact, upon further investigation:"
   ]
  },
  {
   "cell_type": "code",
   "execution_count": 29,
   "metadata": {},
   "outputs": [
    {
     "data": {
      "text/plain": [
       "[0.0, 0.0, 2.0, 2.0, 2.0, 4.0, 6.0, 6.0, 6.0, 6.0, 6.0, 6.0, 6.0, 6.0, 6.0, 6.0, 7.0, 7.0, 7.0, 7.0, 7.0, 7.0, 7.0, 7.0, 7.0, 7.0, 7.0, 7.0, 7.0, 7.0, 7.0, 7.0, 7.0, 7.0, 7.0, 7.0, 7.0, 7.0, 7.0, 7.0, 7.0, 7.0, 7.0, 7.0, 7.0, 7.0, 7.0, 7.0, 7.0, 7.0, 7.0, 7.0, 7.0, 7.0, 7.0, 7.0, 7.0, 7.0, 7.0, 7.0, 7.0, 7.0, 7.0, 7.0, 7.0, 7.0, 7.0, 7.0, 7.0, 7.0, 7.0, 7.0, 7.0, 7.0, 7.0, 7.0, 7.0, 7.0, 7.0, 7.0, 7.0, 7.0, 7.0, 7.0, 7.0, 7.0, 7.0, 7.0, 7.0, 7.0, 12.0, 14.0, 15.0, 15.0, 16.0, 16.0, 16.0, 16.0, 16.0, 16.0]"
      ]
     },
     "execution_count": 29,
     "metadata": {},
     "output_type": "execute_result"
    }
   ],
   "source": [
    "list(df.donor_age.sort_values()[:100])"
   ]
  },
  {
   "cell_type": "markdown",
   "metadata": {},
   "source": [
    "These ages are surely a mistake. Let's look at what the sorted values of months_since_origin are for this variable."
   ]
  },
  {
   "cell_type": "code",
   "execution_count": 30,
   "metadata": {},
   "outputs": [
    {
     "data": {
      "text/html": [
       "<div>\n",
       "<style scoped>\n",
       "    .dataframe tbody tr th:only-of-type {\n",
       "        vertical-align: middle;\n",
       "    }\n",
       "\n",
       "    .dataframe tbody tr th {\n",
       "        vertical-align: top;\n",
       "    }\n",
       "\n",
       "    .dataframe thead th {\n",
       "        text-align: right;\n",
       "    }\n",
       "</style>\n",
       "<table border=\"1\" class=\"dataframe\">\n",
       "  <thead>\n",
       "    <tr style=\"text-align: right;\">\n",
       "      <th></th>\n",
       "      <th>donor_age</th>\n",
       "      <th>months_since_origin</th>\n",
       "    </tr>\n",
       "  </thead>\n",
       "  <tbody>\n",
       "    <tr>\n",
       "      <th>13698</th>\n",
       "      <td>0.0</td>\n",
       "      <td>137</td>\n",
       "    </tr>\n",
       "    <tr>\n",
       "      <th>8967</th>\n",
       "      <td>0.0</td>\n",
       "      <td>77</td>\n",
       "    </tr>\n",
       "    <tr>\n",
       "      <th>8992</th>\n",
       "      <td>2.0</td>\n",
       "      <td>137</td>\n",
       "    </tr>\n",
       "    <tr>\n",
       "      <th>10008</th>\n",
       "      <td>2.0</td>\n",
       "      <td>137</td>\n",
       "    </tr>\n",
       "    <tr>\n",
       "      <th>14789</th>\n",
       "      <td>2.0</td>\n",
       "      <td>77</td>\n",
       "    </tr>\n",
       "    <tr>\n",
       "      <th>...</th>\n",
       "      <td>...</td>\n",
       "      <td>...</td>\n",
       "    </tr>\n",
       "    <tr>\n",
       "      <th>6168</th>\n",
       "      <td>25.0</td>\n",
       "      <td>29</td>\n",
       "    </tr>\n",
       "    <tr>\n",
       "      <th>7750</th>\n",
       "      <td>25.0</td>\n",
       "      <td>29</td>\n",
       "    </tr>\n",
       "    <tr>\n",
       "      <th>10029</th>\n",
       "      <td>25.0</td>\n",
       "      <td>29</td>\n",
       "    </tr>\n",
       "    <tr>\n",
       "      <th>10072</th>\n",
       "      <td>25.0</td>\n",
       "      <td>29</td>\n",
       "    </tr>\n",
       "    <tr>\n",
       "      <th>10307</th>\n",
       "      <td>25.0</td>\n",
       "      <td>29</td>\n",
       "    </tr>\n",
       "  </tbody>\n",
       "</table>\n",
       "<p>300 rows × 2 columns</p>\n",
       "</div>"
      ],
      "text/plain": [
       "       donor_age  months_since_origin\n",
       "13698        0.0                  137\n",
       "8967         0.0                   77\n",
       "8992         2.0                  137\n",
       "10008        2.0                  137\n",
       "14789        2.0                   77\n",
       "...          ...                  ...\n",
       "6168        25.0                   29\n",
       "7750        25.0                   29\n",
       "10029       25.0                   29\n",
       "10072       25.0                   29\n",
       "10307       25.0                   29\n",
       "\n",
       "[300 rows x 2 columns]"
      ]
     },
     "execution_count": 30,
     "metadata": {},
     "output_type": "execute_result"
    }
   ],
   "source": [
    "df[['donor_age','months_since_origin']].sort_values(by=['donor_age','months_since_origin'],ascending =[True,False])[:300]"
   ]
  },
  {
   "cell_type": "markdown",
   "metadata": {},
   "source": [
    "There are a couple of things to note. The first one is that these low age entries actually have the highest values of months_since_origin in the whole dataset. Given the chart presented above and the clear correlation between the two variables this might indicate that perhaps the mistake is that perhaps the system was not prepared to receive values higher than 100 in the age field so age=0 might actually correspond to 100. Also the maximum value for the age is only 87. However, there are two other points that go against this theory. The first would be that the high months_since_origin values stop abruptly at the age of 18 and the other one being that we have less 0 age values than 2, and less 2 values than 6 and so on. If that number indicated the age in the hundreds, it would be the other way around. Given all this weirdness, the final decision was to transform all the ages bellow 18 to nan and impute everything according to the average donor age value by months_since_origin. \n",
    "\n",
    "This is not such an easy task as it may seem. Initially, it was planned to impute the nan values according to the the mean for a given 'months_since_origin' value. This would be that table:"
   ]
  },
  {
   "cell_type": "code",
   "execution_count": 31,
   "metadata": {},
   "outputs": [
    {
     "data": {
      "text/html": [
       "<div>\n",
       "<style scoped>\n",
       "    .dataframe tbody tr th:only-of-type {\n",
       "        vertical-align: middle;\n",
       "    }\n",
       "\n",
       "    .dataframe tbody tr th {\n",
       "        vertical-align: top;\n",
       "    }\n",
       "\n",
       "    .dataframe thead th {\n",
       "        text-align: right;\n",
       "    }\n",
       "</style>\n",
       "<table border=\"1\" class=\"dataframe\">\n",
       "  <thead>\n",
       "    <tr style=\"text-align: right;\">\n",
       "      <th></th>\n",
       "      <th>donor_age</th>\n",
       "    </tr>\n",
       "    <tr>\n",
       "      <th>months_since_origin</th>\n",
       "      <th></th>\n",
       "    </tr>\n",
       "  </thead>\n",
       "  <tbody>\n",
       "    <tr>\n",
       "      <th>5</th>\n",
       "      <td>55.53</td>\n",
       "    </tr>\n",
       "    <tr>\n",
       "      <th>17</th>\n",
       "      <td>55.20</td>\n",
       "    </tr>\n",
       "    <tr>\n",
       "      <th>19</th>\n",
       "      <td>55.00</td>\n",
       "    </tr>\n",
       "    <tr>\n",
       "      <th>21</th>\n",
       "      <td>58.92</td>\n",
       "    </tr>\n",
       "    <tr>\n",
       "      <th>29</th>\n",
       "      <td>56.53</td>\n",
       "    </tr>\n",
       "    <tr>\n",
       "      <th>32</th>\n",
       "      <td>58.92</td>\n",
       "    </tr>\n",
       "    <tr>\n",
       "      <th>40</th>\n",
       "      <td>58.92</td>\n",
       "    </tr>\n",
       "    <tr>\n",
       "      <th>41</th>\n",
       "      <td>55.37</td>\n",
       "    </tr>\n",
       "    <tr>\n",
       "      <th>53</th>\n",
       "      <td>57.41</td>\n",
       "    </tr>\n",
       "    <tr>\n",
       "      <th>54</th>\n",
       "      <td>58.92</td>\n",
       "    </tr>\n",
       "    <tr>\n",
       "      <th>57</th>\n",
       "      <td>58.92</td>\n",
       "    </tr>\n",
       "    <tr>\n",
       "      <th>65</th>\n",
       "      <td>57.81</td>\n",
       "    </tr>\n",
       "    <tr>\n",
       "      <th>67</th>\n",
       "      <td>58.92</td>\n",
       "    </tr>\n",
       "    <tr>\n",
       "      <th>77</th>\n",
       "      <td>58.85</td>\n",
       "    </tr>\n",
       "    <tr>\n",
       "      <th>89</th>\n",
       "      <td>59.96</td>\n",
       "    </tr>\n",
       "    <tr>\n",
       "      <th>92</th>\n",
       "      <td>58.92</td>\n",
       "    </tr>\n",
       "    <tr>\n",
       "      <th>101</th>\n",
       "      <td>61.44</td>\n",
       "    </tr>\n",
       "    <tr>\n",
       "      <th>113</th>\n",
       "      <td>62.51</td>\n",
       "    </tr>\n",
       "    <tr>\n",
       "      <th>115</th>\n",
       "      <td>58.92</td>\n",
       "    </tr>\n",
       "    <tr>\n",
       "      <th>119</th>\n",
       "      <td>58.92</td>\n",
       "    </tr>\n",
       "    <tr>\n",
       "      <th>122</th>\n",
       "      <td>58.92</td>\n",
       "    </tr>\n",
       "    <tr>\n",
       "      <th>124</th>\n",
       "      <td>58.92</td>\n",
       "    </tr>\n",
       "    <tr>\n",
       "      <th>125</th>\n",
       "      <td>62.91</td>\n",
       "    </tr>\n",
       "    <tr>\n",
       "      <th>127</th>\n",
       "      <td>74.00</td>\n",
       "    </tr>\n",
       "    <tr>\n",
       "      <th>129</th>\n",
       "      <td>78.00</td>\n",
       "    </tr>\n",
       "    <tr>\n",
       "      <th>130</th>\n",
       "      <td>38.00</td>\n",
       "    </tr>\n",
       "    <tr>\n",
       "      <th>134</th>\n",
       "      <td>81.00</td>\n",
       "    </tr>\n",
       "    <tr>\n",
       "      <th>137</th>\n",
       "      <td>63.30</td>\n",
       "    </tr>\n",
       "  </tbody>\n",
       "</table>\n",
       "</div>"
      ],
      "text/plain": [
       "                     donor_age\n",
       "months_since_origin           \n",
       "5                        55.53\n",
       "17                       55.20\n",
       "19                       55.00\n",
       "21                       58.92\n",
       "29                       56.53\n",
       "32                       58.92\n",
       "40                       58.92\n",
       "41                       55.37\n",
       "53                       57.41\n",
       "54                       58.92\n",
       "57                       58.92\n",
       "65                       57.81\n",
       "67                       58.92\n",
       "77                       58.85\n",
       "89                       59.96\n",
       "92                       58.92\n",
       "101                      61.44\n",
       "113                      62.51\n",
       "115                      58.92\n",
       "119                      58.92\n",
       "122                      58.92\n",
       "124                      58.92\n",
       "125                      62.91\n",
       "127                      74.00\n",
       "129                      78.00\n",
       "130                      38.00\n",
       "134                      81.00\n",
       "137                      63.30"
      ]
     },
     "execution_count": 31,
     "metadata": {},
     "output_type": "execute_result"
    }
   ],
   "source": [
    "impute_table = df[['months_since_origin','donor_age']][df.donor_age.notnull()].groupby(['months_since_origin']).mean()\n",
    "impute_table"
   ]
  },
  {
   "cell_type": "markdown",
   "metadata": {},
   "source": [
    "The problem is that there are values of months_since_origin that only have nan in the donor_age field, so it's not possible to have a value of reference for that value:"
   ]
  },
  {
   "cell_type": "code",
   "execution_count": 32,
   "metadata": {},
   "outputs": [
    {
     "name": "stdout",
     "output_type": "stream",
     "text": [
      "list with values of months_since origin that don't have any age value: []\n"
     ]
    }
   ],
   "source": [
    "nan_unique_vals = []\n",
    "for i in df.months_since_origin[df.donor_age.isnull()].unique():\n",
    "    if i not in impute_table.index:\n",
    "        nan_unique_vals.append(i)\n",
    "\n",
    "print ('list with values of months_since origin that don\\'t have any age value:',nan_unique_vals)"
   ]
  },
  {
   "cell_type": "markdown",
   "metadata": {},
   "source": [
    "Since the relationship between these variables seem to be linear (excluding those with less than 18 years old), it was decided to impute the above mentioned with a linear regression model."
   ]
  },
  {
   "cell_type": "code",
   "execution_count": 33,
   "metadata": {},
   "outputs": [],
   "source": [
    "from sklearn.linear_model import LinearRegression\n",
    "df.loc[df.donor_age <=18,'donor_age']=np.NaN\n",
    "X = df.months_since_origin[df.donor_age.notnull()].values.reshape(-1,1)\n",
    "y = df.donor_age[df.donor_age.notnull()].values.reshape(-1,1)\n",
    "impute_fit=LinearRegression()\n",
    "impute_fit = impute_fit.fit(X,y)"
   ]
  },
  {
   "cell_type": "code",
   "execution_count": 34,
   "metadata": {},
   "outputs": [],
   "source": [
    "for nan_age_index in df.donor_age[df.donor_age.isnull()].index:\n",
    "    if df.months_since_origin.iloc[nan_age_index] in nan_unique_vals:\n",
    "        #impute with model in case there is no base reference to impute\n",
    "        df.at[nan_age_index,'donor_age'] = impute_fit.predict(df.months_since_origin.loc[nan_age_index].reshape(1,-1)).flatten()\n",
    "    else:\n",
    "        #impute according to impute_table otherwise\n",
    "        df.at[nan_age_index,'donor_age'] = impute_table.loc[df.months_since_origin.iloc[nan_age_index]]\n"
   ]
  },
  {
   "cell_type": "markdown",
   "metadata": {},
   "source": [
    "#### File card gift"
   ]
  },
  {
   "cell_type": "code",
   "execution_count": 35,
   "metadata": {},
   "outputs": [
    {
     "data": {
      "text/plain": [
       "array([ 7, 12, 16,  3,  6,  8, 14, 13,  2, 10,  4, 23, 11,  1,  9,  5, 22,\n",
       "       20, 24, 26, 17, 25, 15, 18,  0, 21, 19, 29, 41, 32, 28, 27],\n",
       "      dtype=int64)"
      ]
     },
     "execution_count": 35,
     "metadata": {},
     "output_type": "execute_result"
    }
   ],
   "source": [
    "df.file_card_gift.unique()"
   ]
  },
  {
   "cell_type": "code",
   "execution_count": 36,
   "metadata": {},
   "outputs": [
    {
     "data": {
      "text/plain": [
       "<seaborn.axisgrid.FacetGrid object at 0x00000052CB8DE088>"
      ]
     },
     "execution_count": 36,
     "metadata": {},
     "output_type": "execute_result"
    },
    {
     "data": {
      "image/png": "[encoded data removed]",
      "text/plain": [
       "<Figure size 360x360 with 1 Axes>"
      ]
     },
     "metadata": {
      "needs_background": "light"
     },
     "output_type": "display_data"
    }
   ],
   "source": [
    "sns.displot(df.file_card_gift)"
   ]
  },
  {
   "cell_type": "markdown",
   "metadata": {},
   "source": [
    "everything seems in order, let's just convert to float as it is a dollar amount (and other dollar amounts are also in floats)"
   ]
  },
  {
   "cell_type": "code",
   "execution_count": 37,
   "metadata": {},
   "outputs": [],
   "source": [
    "df.file_card_gift = df.file_card_gift.astype(\"float64\")"
   ]
  },
  {
   "cell_type": "markdown",
   "metadata": {},
   "source": [
    "#### FREQUENCY_STATUS_97NK"
   ]
  },
  {
   "cell_type": "code",
   "execution_count": 38,
   "metadata": {},
   "outputs": [
    {
     "data": {
      "text/plain": [
       "array([1, 2, 3, 4], dtype=int64)"
      ]
     },
     "execution_count": 38,
     "metadata": {},
     "output_type": "execute_result"
    }
   ],
   "source": [
    "df.frequency_status_97nk.unique()"
   ]
  },
  {
   "cell_type": "markdown",
   "metadata": {},
   "source": [
    "One-hot encoding was tested but it yielded worse results"
   ]
  },
  {
   "cell_type": "markdown",
   "metadata": {},
   "source": [
    "#### Home owner"
   ]
  },
  {
   "cell_type": "code",
   "execution_count": 39,
   "metadata": {},
   "outputs": [
    {
     "data": {
      "text/plain": [
       "H    10606\n",
       "U     8766\n",
       "Name: home_owner, dtype: int64"
      ]
     },
     "execution_count": 39,
     "metadata": {},
     "output_type": "execute_result"
    }
   ],
   "source": [
    "df.home_owner.value_counts()"
   ]
  },
  {
   "cell_type": "markdown",
   "metadata": {},
   "source": [
    "there are many unknown values. Let's just turn this into a binary variable for now."
   ]
  },
  {
   "cell_type": "code",
   "execution_count": 40,
   "metadata": {},
   "outputs": [],
   "source": [
    "df.home_owner = df.home_owner.map( {'H': 1, 'U': 0} ).astype('int64')"
   ]
  },
  {
   "cell_type": "markdown",
   "metadata": {},
   "source": [
    "#### Income group"
   ]
  },
  {
   "cell_type": "code",
   "execution_count": 41,
   "metadata": {},
   "outputs": [
    {
     "data": {
      "text/plain": [
       "array([ 2.,  7.,  5.,  6.,  3.,  1.,  4., nan])"
      ]
     },
     "execution_count": 41,
     "metadata": {},
     "output_type": "execute_result"
    }
   ],
   "source": [
    "df.income_group.unique()"
   ]
  },
  {
   "cell_type": "code",
   "execution_count": 42,
   "metadata": {},
   "outputs": [
    {
     "data": {
      "text/plain": [
       "0        2.0\n",
       "1        7.0\n",
       "2        5.0\n",
       "3        6.0\n",
       "4        2.0\n",
       "        ... \n",
       "19367    4.0\n",
       "19368    5.0\n",
       "19369    1.0\n",
       "19370    6.0\n",
       "19371    5.0\n",
       "Name: income_group, Length: 19372, dtype: float64"
      ]
     },
     "execution_count": 42,
     "metadata": {},
     "output_type": "execute_result"
    }
   ],
   "source": [
    "df.income_group"
   ]
  },
  {
   "cell_type": "markdown",
   "metadata": {},
   "source": [
    "this should be a categorical variable (int) but it's in float"
   ]
  },
  {
   "cell_type": "code",
   "execution_count": 43,
   "metadata": {
    "scrolled": true
   },
   "outputs": [
    {
     "data": {
      "text/plain": [
       "<seaborn.axisgrid.FacetGrid object at 0x00000052CA8770C8>"
      ]
     },
     "execution_count": 43,
     "metadata": {},
     "output_type": "execute_result"
    },
    {
     "data": {
      "image/png": "[encoded data removed]",
      "text/plain": [
       "<Figure size 360x360 with 1 Axes>"
      ]
     },
     "metadata": {
      "needs_background": "light"
     },
     "output_type": "display_data"
    }
   ],
   "source": [
    "sns.displot(df.income_group,kde=True,)"
   ]
  },
  {
   "cell_type": "code",
   "execution_count": 44,
   "metadata": {},
   "outputs": [
    {
     "data": {
      "text/plain": [
       "4392"
      ]
     },
     "execution_count": 44,
     "metadata": {},
     "output_type": "execute_result"
    }
   ],
   "source": [
    "df.income_group.isnull().sum()"
   ]
  },
  {
   "cell_type": "markdown",
   "metadata": {},
   "source": [
    "there are many null values. Let's create a different category (value 0) for them for now"
   ]
  },
  {
   "cell_type": "code",
   "execution_count": 45,
   "metadata": {},
   "outputs": [],
   "source": [
    "df.income_group = df.income_group.fillna(value=0.)"
   ]
  },
  {
   "cell_type": "code",
   "execution_count": 46,
   "metadata": {},
   "outputs": [
    {
     "data": {
      "text/plain": [
       "dtype('int64')"
      ]
     },
     "execution_count": 46,
     "metadata": {},
     "output_type": "execute_result"
    }
   ],
   "source": [
    "df.income_group = df.income_group.astype('int64')\n",
    "df.income_group.dtype"
   ]
  },
  {
   "cell_type": "markdown",
   "metadata": {},
   "source": [
    "this column should be a normal distribution even though it doesn't look a lot like one"
   ]
  },
  {
   "cell_type": "markdown",
   "metadata": {},
   "source": [
    "#### 2nd iteration"
   ]
  },
  {
   "cell_type": "code",
   "execution_count": 47,
   "metadata": {},
   "outputs": [],
   "source": [
    "df_reset()"
   ]
  },
  {
   "cell_type": "markdown",
   "metadata": {},
   "source": [
    "Let's check correlations"
   ]
  },
  {
   "cell_type": "code",
   "execution_count": 48,
   "metadata": {},
   "outputs": [
    {
     "data": {
      "text/plain": [
       "income_group               1.00\n",
       "median_household_income    0.43\n",
       "wealth_rating              0.42\n",
       "per_capita_income          0.35\n",
       "ses                        0.33\n",
       "home_owner                 0.33\n",
       "median_home_value          0.32\n",
       "donor_age                  0.20\n",
       "pct_owner_occupied         0.18\n",
       "target_d                   0.13\n",
       "lifetime_gift_count        0.12\n",
       "lifetime_avg_gift_amt      0.11\n",
       "pct_attribute3             0.11\n",
       "file_card_gift             0.10\n",
       "last_gift_amt              0.10\n",
       "Name: income_group, dtype: float64"
      ]
     },
     "execution_count": 48,
     "metadata": {},
     "output_type": "execute_result"
    }
   ],
   "source": [
    "df_label_encoded.corr().abs()['income_group'].sort_values(ascending=False)[:15]"
   ]
  },
  {
   "cell_type": "markdown",
   "metadata": {},
   "source": [
    "Let's check if the median_household_income values corresponding to nan in income group are of good quality"
   ]
  },
  {
   "cell_type": "code",
   "execution_count": 49,
   "metadata": {},
   "outputs": [
    {
     "data": {
      "text/html": [
       "<div>\n",
       "<style scoped>\n",
       "    .dataframe tbody tr th:only-of-type {\n",
       "        vertical-align: middle;\n",
       "    }\n",
       "\n",
       "    .dataframe tbody tr th {\n",
       "        vertical-align: top;\n",
       "    }\n",
       "\n",
       "    .dataframe thead th {\n",
       "        text-align: right;\n",
       "    }\n",
       "</style>\n",
       "<table border=\"1\" class=\"dataframe\">\n",
       "  <thead>\n",
       "    <tr style=\"text-align: right;\">\n",
       "      <th></th>\n",
       "      <th>income_group</th>\n",
       "      <th>median_household_income</th>\n",
       "    </tr>\n",
       "  </thead>\n",
       "  <tbody>\n",
       "    <tr>\n",
       "      <th>10</th>\n",
       "      <td>NaN</td>\n",
       "      <td>179</td>\n",
       "    </tr>\n",
       "    <tr>\n",
       "      <th>11</th>\n",
       "      <td>NaN</td>\n",
       "      <td>163</td>\n",
       "    </tr>\n",
       "    <tr>\n",
       "      <th>12</th>\n",
       "      <td>NaN</td>\n",
       "      <td>256</td>\n",
       "    </tr>\n",
       "    <tr>\n",
       "      <th>13</th>\n",
       "      <td>NaN</td>\n",
       "      <td>219</td>\n",
       "    </tr>\n",
       "    <tr>\n",
       "      <th>14</th>\n",
       "      <td>NaN</td>\n",
       "      <td>227</td>\n",
       "    </tr>\n",
       "    <tr>\n",
       "      <th>...</th>\n",
       "      <td>...</td>\n",
       "      <td>...</td>\n",
       "    </tr>\n",
       "    <tr>\n",
       "      <th>19348</th>\n",
       "      <td>NaN</td>\n",
       "      <td>363</td>\n",
       "    </tr>\n",
       "    <tr>\n",
       "      <th>19351</th>\n",
       "      <td>NaN</td>\n",
       "      <td>243</td>\n",
       "    </tr>\n",
       "    <tr>\n",
       "      <th>19354</th>\n",
       "      <td>NaN</td>\n",
       "      <td>359</td>\n",
       "    </tr>\n",
       "    <tr>\n",
       "      <th>19358</th>\n",
       "      <td>NaN</td>\n",
       "      <td>280</td>\n",
       "    </tr>\n",
       "    <tr>\n",
       "      <th>19362</th>\n",
       "      <td>NaN</td>\n",
       "      <td>121</td>\n",
       "    </tr>\n",
       "  </tbody>\n",
       "</table>\n",
       "<p>4392 rows × 2 columns</p>\n",
       "</div>"
      ],
      "text/plain": [
       "       income_group  median_household_income\n",
       "10              NaN                      179\n",
       "11              NaN                      163\n",
       "12              NaN                      256\n",
       "13              NaN                      219\n",
       "14              NaN                      227\n",
       "...             ...                      ...\n",
       "19348           NaN                      363\n",
       "19351           NaN                      243\n",
       "19354           NaN                      359\n",
       "19358           NaN                      280\n",
       "19362           NaN                      121\n",
       "\n",
       "[4392 rows x 2 columns]"
      ]
     },
     "execution_count": 49,
     "metadata": {},
     "output_type": "execute_result"
    }
   ],
   "source": [
    "df[['income_group','median_household_income']][df.income_group.isnull()]"
   ]
  },
  {
   "cell_type": "markdown",
   "metadata": {},
   "source": [
    "they seem like they are. Let's visualize the relationship between these two variables"
   ]
  },
  {
   "cell_type": "code",
   "execution_count": 50,
   "metadata": {},
   "outputs": [
    {
     "data": {
      "text/plain": [
       "<AxesSubplot:xlabel='income_group', ylabel='median_household_income'>"
      ]
     },
     "execution_count": 50,
     "metadata": {},
     "output_type": "execute_result"
    },
    {
     "data": {
      "image/png": "[encoded data removed]",
      "text/plain": [
       "<Figure size 432x288 with 1 Axes>"
      ]
     },
     "metadata": {
      "needs_background": "light"
     },
     "output_type": "display_data"
    }
   ],
   "source": [
    "sns.barplot(data=df,x=\"income_group\",y=\"median_household_income\")"
   ]
  },
  {
   "cell_type": "markdown",
   "metadata": {},
   "source": [
    "It seems like it's perfecto to serve as basis for imputation. Just note that we should impute median_household_income first since there are a handfull of zero values that should be filled first. Also note that the mean for imputation is rounded."
   ]
  },
  {
   "cell_type": "code",
   "execution_count": 51,
   "metadata": {},
   "outputs": [],
   "source": [
    "#imputing median_household_income first\n",
    "#set the 0 to nan\n",
    "df.loc[df.median_household_income == 0,'median_household_income']=np.NaN\n",
    "#group by urbanicity and ses, calculate average and use that\n",
    "df['median_household_income'] = df.groupby(['ses','urbanicity'], sort=False)['median_household_income'].apply(lambda x: x.fillna(x.mean()))"
   ]
  },
  {
   "cell_type": "markdown",
   "metadata": {},
   "source": [
    "Also, since this a continuous variable, it should be binned."
   ]
  },
  {
   "cell_type": "code",
   "execution_count": 52,
   "metadata": {},
   "outputs": [],
   "source": [
    "#binning\n",
    "df['median_household_bin'] = pd.qcut(df.median_household_income,7,labels=False)\n",
    "#imputation\n",
    "df['income_group'] = df.groupby(['median_household_bin'], sort=False)['income_group'].apply(lambda x: x.fillna(x.mean())).copy()\n",
    "df['income_group'] = df['income_group'].round()\n",
    "df.drop('median_household_bin',axis=1,inplace=True)"
   ]
  },
  {
   "cell_type": "markdown",
   "metadata": {},
   "source": [
    "also this variable should be one-hot encoded, to let's convert it to string"
   ]
  },
  {
   "cell_type": "code",
   "execution_count": 53,
   "metadata": {},
   "outputs": [
    {
     "data": {
      "text/plain": [
       "array(['2.0', '7.0', '5.0', '6.0', '3.0', '1.0', '4.0'], dtype=object)"
      ]
     },
     "execution_count": 53,
     "metadata": {},
     "output_type": "execute_result"
    }
   ],
   "source": [
    "df['income_group'] = df['income_group'].astype('str')\n",
    "df['income_group'].unique()"
   ]
  },
  {
   "cell_type": "markdown",
   "metadata": {},
   "source": [
    "#### In house"
   ]
  },
  {
   "cell_type": "code",
   "execution_count": 54,
   "metadata": {},
   "outputs": [
    {
     "data": {
      "text/plain": [
       "1418"
      ]
     },
     "execution_count": 54,
     "metadata": {},
     "output_type": "execute_result"
    }
   ],
   "source": [
    "df.in_house.sum()"
   ]
  },
  {
   "cell_type": "markdown",
   "metadata": {},
   "source": [
    "### Last gift amount AND Lifetime* variables"
   ]
  },
  {
   "cell_type": "markdown",
   "metadata": {},
   "source": [
    "this section includes \n",
    "* **LAST_GIFT_AMT** - amount of the most recent donation from the individual to the charitable organization\n",
    "* **LIFETIME_AVG_GIFT_AMT** - lifetime average donation (in \\\\$) from the individual to the charitable organization\n",
    "* **LIFETIME_CARD_PROM** - total number of card promotions sent to the individual by the charitable organization\n",
    "* **LIFETIME_GIFT_AMOUNT** - total lifetime donation amount (in \\\\$) from the individual to the charitable organization\n",
    "* **LIFETIME_GIFT_COUNT** - total number of donations from the individual to the charitable organization\n",
    "* **LIFETIME_GIFT_RANGE** - maximum donation amount from the individual minus minimum donation amount from the individual\n",
    "* **LIFETIME_MAX_GIFT_AMT** - maximum donation amount (in \\\\$) from the individual to the charitable organization\n",
    "* **LIFETIME_MIN_GIFT_AMT** - minimum donation amount (in \\\\$) from the individual to the charitable organization\n",
    "* **LIFETIME_PROM** - total number of promotions sent to the individual by the charitable organization"
   ]
  },
  {
   "cell_type": "markdown",
   "metadata": {},
   "source": [
    "#### Binning and outlier treatment"
   ]
  },
  {
   "cell_type": "markdown",
   "metadata": {},
   "source": [
    "To guarentee that the binning makes sense, a threshold should be employed so that most bins aren't empty because of the outliers. Let's look at the Last_gift_amt column as an example. The distribution goes like this"
   ]
  },
  {
   "cell_type": "code",
   "execution_count": 55,
   "metadata": {},
   "outputs": [
    {
     "data": {
      "text/plain": [
       "<seaborn.axisgrid.FacetGrid object at 0x00000052CBC05F88>"
      ]
     },
     "execution_count": 55,
     "metadata": {},
     "output_type": "execute_result"
    },
    {
     "data": {
      "image/png": "[encoded data removed]",
      "text/plain": [
       "<Figure size 360x360 with 1 Axes>"
      ]
     },
     "metadata": {
      "needs_background": "light"
     },
     "output_type": "display_data"
    }
   ],
   "source": [
    "sns.displot(df.last_gift_amt,kde=True,)"
   ]
  },
  {
   "cell_type": "markdown",
   "metadata": {},
   "source": [
    "For all the above features, outlier treatment and binning was applied. For outlier treatment we decided upon thresholds of 3 standard deviations above and below the average of the feature. For the above example that would be:"
   ]
  },
  {
   "cell_type": "code",
   "execution_count": 56,
   "metadata": {},
   "outputs": [
    {
     "name": "stdout",
     "output_type": "stream",
     "text": [
      "52.51687189823505\n"
     ]
    }
   ],
   "source": [
    "upper_threshold = df['last_gift_amt'].mean()+3*df['last_gift_amt'].std()\n",
    "print(upper_threshold)"
   ]
  },
  {
   "cell_type": "markdown",
   "metadata": {},
   "source": [
    "Which makes a lot of sense!"
   ]
  },
  {
   "cell_type": "markdown",
   "metadata": {},
   "source": [
    "<b>MEDIAN HOME VALUE</b> - median home value (in 100$) as determined by other input variables"
   ]
  },
  {
   "cell_type": "code",
   "execution_count": 57,
   "metadata": {},
   "outputs": [],
   "source": [
    "df_reset()"
   ]
  },
  {
   "cell_type": "code",
   "execution_count": 58,
   "metadata": {},
   "outputs": [
    {
     "data": {
      "text/plain": [
       "0"
      ]
     },
     "execution_count": 58,
     "metadata": {},
     "output_type": "execute_result"
    }
   ],
   "source": [
    "df.median_home_value.isnull().sum()"
   ]
  },
  {
   "cell_type": "code",
   "execution_count": 59,
   "metadata": {},
   "outputs": [
    {
     "data": {
      "text/plain": [
       "<seaborn.axisgrid.FacetGrid object at 0x00000052CCFB1748>"
      ]
     },
     "execution_count": 59,
     "metadata": {},
     "output_type": "execute_result"
    },
    {
     "data": {
      "image/png": "[encoded data removed]",
      "text/plain": [
       "<Figure size 360x360 with 1 Axes>"
      ]
     },
     "metadata": {
      "needs_background": "light"
     },
     "output_type": "display_data"
    }
   ],
   "source": [
    "sns.displot(df.median_home_value)"
   ]
  },
  {
   "cell_type": "code",
   "execution_count": 60,
   "metadata": {},
   "outputs": [
    {
     "data": {
      "text/plain": [
       "0       218\n",
       "675      68\n",
       "550      50\n",
       "575      39\n",
       "875      39\n",
       "       ... \n",
       "1907      1\n",
       "4696      1\n",
       "3922      1\n",
       "5953      1\n",
       "2047      1\n",
       "Name: median_home_value, Length: 3130, dtype: int64"
      ]
     },
     "execution_count": 60,
     "metadata": {},
     "output_type": "execute_result"
    }
   ],
   "source": [
    "df.median_home_value.value_counts()"
   ]
  },
  {
   "cell_type": "markdown",
   "metadata": {},
   "source": [
    "Let's explore the connections with urbanicity and SES"
   ]
  },
  {
   "cell_type": "code",
   "execution_count": 61,
   "metadata": {},
   "outputs": [
    {
     "data": {
      "image/png": "[encoded data removed]",
      "text/plain": [
       "<Figure size 432x288 with 2 Axes>"
      ]
     },
     "metadata": {
      "needs_background": "light"
     },
     "output_type": "display_data"
    }
   ],
   "source": [
    "order = ['U','C','S','T','R','?']\n",
    "fig, axs = plt.subplots(ncols=2)\n",
    "sns.countplot(x=df[\"urbanicity\"],hue_order=order, order =order, ax = axs[0]).set_title('Urbanicity for whole dataset')\n",
    "sns.countplot(x=df[df.median_home_value ==0][\"urbanicity\"],hue_order=order, order =order, ax = axs[1]).set_title('Urbanicity for MHV=0')\n",
    "plt.tight_layout()"
   ]
  },
  {
   "cell_type": "code",
   "execution_count": 62,
   "metadata": {},
   "outputs": [
    {
     "data": {
      "text/plain": [
       "array(['?', '2', '1', '3', '4'], dtype=object)"
      ]
     },
     "execution_count": 62,
     "metadata": {},
     "output_type": "execute_result"
    }
   ],
   "source": [
    "df.ses.unique()"
   ]
  },
  {
   "cell_type": "code",
   "execution_count": 63,
   "metadata": {},
   "outputs": [
    {
     "data": {
      "image/png": "[encoded data removed]",
      "text/plain": [
       "<Figure size 432x288 with 2 Axes>"
      ]
     },
     "metadata": {
      "needs_background": "light"
     },
     "output_type": "display_data"
    }
   ],
   "source": [
    "order = ['?', '2', '1', '3', '4']\n",
    "fig, axs = plt.subplots(ncols=2)\n",
    "sns.countplot(x=df[\"ses\"],hue_order=order, order =order, ax = axs[0]).set_title('SES for whole dataset')\n",
    "sns.countplot(x=df[df.median_home_value ==0][\"ses\"],hue_order=order, order =order, ax = axs[1]).set_title('SES for MHV=0')\n",
    "plt.tight_layout()"
   ]
  },
  {
   "cell_type": "markdown",
   "metadata": {},
   "source": [
    "it seems like these values tend to be more urban and in the case of ses the distribution of values is clearly skewed to the right comparing with all the data, but that doesn't tell us too much. Let's check if there is a correlation with age"
   ]
  },
  {
   "cell_type": "code",
   "execution_count": 64,
   "metadata": {},
   "outputs": [
    {
     "data": {
      "text/plain": [
       "<matplotlib.legend.Legend object at 0x00000052CE9F61C8>"
      ]
     },
     "execution_count": 64,
     "metadata": {},
     "output_type": "execute_result"
    },
    {
     "data": {
      "image/png": "[encoded data removed]",
      "text/plain": [
       "<Figure size 432x288 with 1 Axes>"
      ]
     },
     "metadata": {
      "needs_background": "light"
     },
     "output_type": "display_data"
    }
   ],
   "source": [
    "sns.kdeplot(df[df.median_home_value==0]['donor_age'])\n",
    "sns.kdeplot(df['donor_age'])\n",
    "plt.legend(labels=['MHV = 0', 'all data'])"
   ]
  },
  {
   "cell_type": "markdown",
   "metadata": {},
   "source": [
    "it seems like these are younger donors. Let's what are the variables that correlate the most with median_home_value in order to impute according to that"
   ]
  },
  {
   "cell_type": "code",
   "execution_count": 65,
   "metadata": {},
   "outputs": [
    {
     "data": {
      "text/plain": [
       "median_home_value          1.00\n",
       "per_capita_income          0.73\n",
       "median_household_income    0.68\n",
       "wealth_rating              0.39\n",
       "ses                        0.38\n",
       "income_group               0.32\n",
       "urbanicity                 0.29\n",
       "index                      0.26\n",
       "target_d                   0.13\n",
       "lifetime_avg_gift_amt      0.12\n",
       "Name: median_home_value, dtype: float64"
      ]
     },
     "execution_count": 65,
     "metadata": {},
     "output_type": "execute_result"
    }
   ],
   "source": [
    "df_label_encoded.corr().abs()['median_home_value'].sort_values(ascending=False)[:10]"
   ]
  },
  {
   "cell_type": "markdown",
   "metadata": {},
   "source": [
    "per_capita_income could be a good candidate. Let's check if it has integrity enough to base our imputation."
   ]
  },
  {
   "cell_type": "code",
   "execution_count": 66,
   "metadata": {},
   "outputs": [
    {
     "data": {
      "text/plain": [
       "138          0\n",
       "351          0\n",
       "362          0\n",
       "458      37726\n",
       "673      35688\n",
       "         ...  \n",
       "19039        0\n",
       "19158        0\n",
       "19305        0\n",
       "19338        0\n",
       "19343        0\n",
       "Name: per_capita_income, Length: 218, dtype: int64"
      ]
     },
     "execution_count": 66,
     "metadata": {},
     "output_type": "execute_result"
    }
   ],
   "source": [
    "df[df.median_home_value==0]['per_capita_income']"
   ]
  },
  {
   "cell_type": "markdown",
   "metadata": {},
   "source": [
    "most values are zero, so not good enough. That could be a reason in fact why there is a high correlation between these is so high. Let's check the next candidate"
   ]
  },
  {
   "cell_type": "code",
   "execution_count": 67,
   "metadata": {},
   "outputs": [
    {
     "data": {
      "text/plain": [
       "138        0\n",
       "351        0\n",
       "362        0\n",
       "458      413\n",
       "673      237\n",
       "        ... \n",
       "19039      0\n",
       "19158      0\n",
       "19305      0\n",
       "19338      0\n",
       "19343      0\n",
       "Name: median_household_income, Length: 218, dtype: int64"
      ]
     },
     "execution_count": 67,
     "metadata": {},
     "output_type": "execute_result"
    }
   ],
   "source": [
    "df[df.median_home_value==0]['median_household_income']"
   ]
  },
  {
   "cell_type": "markdown",
   "metadata": {},
   "source": [
    "the fact that almost everything is zero is suspicious. Let's count some of these values"
   ]
  },
  {
   "cell_type": "code",
   "execution_count": 68,
   "metadata": {},
   "outputs": [
    {
     "data": {
      "text/plain": [
       "173"
      ]
     },
     "execution_count": 68,
     "metadata": {},
     "output_type": "execute_result"
    }
   ],
   "source": [
    "df[(df.median_household_income==0) & (df.per_capita_income==0)].shape[0]"
   ]
  },
  {
   "cell_type": "code",
   "execution_count": 69,
   "metadata": {},
   "outputs": [
    {
     "data": {
      "text/plain": [
       "218"
      ]
     },
     "execution_count": 69,
     "metadata": {},
     "output_type": "execute_result"
    }
   ],
   "source": [
    "df[df.median_home_value==0].shape[0]"
   ]
  },
  {
   "cell_type": "code",
   "execution_count": 70,
   "metadata": {},
   "outputs": [
    {
     "data": {
      "text/plain": [
       "173"
      ]
     },
     "execution_count": 70,
     "metadata": {},
     "output_type": "execute_result"
    }
   ],
   "source": [
    "df[df.per_capita_income==0].shape[0]"
   ]
  },
  {
   "cell_type": "markdown",
   "metadata": {},
   "source": [
    "there are 173 data points that have 0 on these three fields. This will help us treating these variables."
   ]
  },
  {
   "cell_type": "markdown",
   "metadata": {},
   "source": [
    "income_group also has many Nans. Imputing based on urbanicity and ses seems like a good strategy since earlier it was seen that there is a relationship between these points that that value. Also it makes sense intuitively that house value is related with socioeconomic status."
   ]
  },
  {
   "cell_type": "code",
   "execution_count": 71,
   "metadata": {},
   "outputs": [],
   "source": [
    "#set the 0 to nan\n",
    "df.loc[df.median_home_value == 0,'median_home_value']=np.NaN\n",
    "#group by urbanicity and ses, calculate average and use that\n",
    "df['median_home_value'] = df.groupby(['ses','urbanicity'], sort=False)['median_home_value'].apply(lambda x: x.fillna(x.mean()))"
   ]
  },
  {
   "cell_type": "markdown",
   "metadata": {},
   "source": [
    "<b>MEDIAN HOUSEHOLD INCOME</b> - median household income (in 100$) as determined by other input variables"
   ]
  },
  {
   "cell_type": "code",
   "execution_count": 72,
   "metadata": {},
   "outputs": [
    {
     "data": {
      "text/plain": [
       "<seaborn.axisgrid.FacetGrid object at 0x00000052CF26BE48>"
      ]
     },
     "execution_count": 72,
     "metadata": {},
     "output_type": "execute_result"
    },
    {
     "data": {
      "image/png": "[encoded data removed]",
      "text/plain": [
       "<Figure size 360x360 with 1 Axes>"
      ]
     },
     "metadata": {
      "needs_background": "light"
     },
     "output_type": "display_data"
    }
   ],
   "source": [
    "sns.displot(df.median_household_income)"
   ]
  },
  {
   "cell_type": "markdown",
   "metadata": {},
   "source": [
    "There is a weird peak at 0. Instead of filling zero values with the mean we follow the same strategy as before"
   ]
  },
  {
   "cell_type": "code",
   "execution_count": 73,
   "metadata": {},
   "outputs": [],
   "source": [
    "#set the 0 to nan\n",
    "df.loc[df.median_household_income == 0,'median_household_income']=np.NaN\n",
    "#group by urbanicity and ses, calculate average and use that\n",
    "df['median_household_income'] = df.groupby(['ses','urbanicity'], sort=False)['median_household_income'].apply(lambda x: x.fillna(x.mean()))"
   ]
  },
  {
   "cell_type": "markdown",
   "metadata": {},
   "source": [
    "<b>MONTHS SINCE FIRST GIFT</b> - number of months since the first donation from the individual to the charitable organization"
   ]
  },
  {
   "cell_type": "code",
   "execution_count": 74,
   "metadata": {},
   "outputs": [
    {
     "data": {
      "text/plain": [
       "<AxesSubplot:ylabel='Frequency'>"
      ]
     },
     "execution_count": 74,
     "metadata": {},
     "output_type": "execute_result"
    },
    {
     "data": {
      "image/png": "[encoded data removed]",
      "text/plain": [
       "<Figure size 432x288 with 1 Axes>"
      ]
     },
     "metadata": {
      "needs_background": "light"
     },
     "output_type": "display_data"
    }
   ],
   "source": [
    "df_reset()\n",
    "df.months_since_first_gift.plot(kind = 'hist')"
   ]
  },
  {
   "cell_type": "markdown",
   "metadata": {},
   "source": [
    "Should be outlier corrected!"
   ]
  },
  {
   "cell_type": "markdown",
   "metadata": {},
   "source": [
    "<b>MONTHS SINCE LAST GIFT</b> - number of months since the most recent donation from the individual to the charitable organization"
   ]
  },
  {
   "cell_type": "code",
   "execution_count": 75,
   "metadata": {},
   "outputs": [
    {
     "data": {
      "text/plain": [
       "<AxesSubplot:ylabel='Frequency'>"
      ]
     },
     "execution_count": 75,
     "metadata": {},
     "output_type": "execute_result"
    },
    {
     "data": {
      "image/png": "[encoded data removed]",
      "text/plain": [
       "<Figure size 432x288 with 1 Axes>"
      ]
     },
     "metadata": {
      "needs_background": "light"
     },
     "output_type": "display_data"
    }
   ],
   "source": [
    "df.months_since_last_gift.plot(kind = 'hist')"
   ]
  },
  {
   "cell_type": "code",
   "execution_count": 76,
   "metadata": {},
   "outputs": [
    {
     "data": {
      "text/plain": [
       "count    19372.00\n",
       "mean        69.48\n",
       "std         37.57\n",
       "min         15.00\n",
       "25%         33.00\n",
       "50%         65.00\n",
       "75%        105.00\n",
       "max        260.00\n",
       "Name: months_since_first_gift, dtype: float64"
      ]
     },
     "execution_count": 76,
     "metadata": {},
     "output_type": "execute_result"
    }
   ],
   "source": [
    "df.months_since_first_gift.describe()"
   ]
  },
  {
   "cell_type": "markdown",
   "metadata": {},
   "source": [
    "Should be outlier corrected!\n"
   ]
  },
  {
   "cell_type": "markdown",
   "metadata": {},
   "source": [
    "<b>MONTHS SINCE LAST PROM RESP</b> - number of months since the individual has responded to a promotion by the charitable organization"
   ]
  },
  {
   "cell_type": "code",
   "execution_count": 77,
   "metadata": {},
   "outputs": [
    {
     "data": {
      "text/plain": [
       "<AxesSubplot:ylabel='Frequency'>"
      ]
     },
     "execution_count": 77,
     "metadata": {},
     "output_type": "execute_result"
    },
    {
     "data": {
      "image/png": "[encoded data removed]",
      "text/plain": [
       "<Figure size 432x288 with 1 Axes>"
      ]
     },
     "metadata": {
      "needs_background": "light"
     },
     "output_type": "display_data"
    }
   ],
   "source": [
    "df.months_since_last_prom_resp.plot(kind = 'hist')"
   ]
  },
  {
   "cell_type": "code",
   "execution_count": 78,
   "metadata": {},
   "outputs": [
    {
     "data": {
      "text/plain": [
       "count    19126.00\n",
       "mean        19.04\n",
       "std          3.42\n",
       "min        -12.00\n",
       "25%         17.00\n",
       "50%         18.00\n",
       "75%         21.00\n",
       "max         36.00\n",
       "Name: months_since_last_prom_resp, dtype: float64"
      ]
     },
     "execution_count": 78,
     "metadata": {},
     "output_type": "execute_result"
    }
   ],
   "source": [
    "df.months_since_last_prom_resp.describe()"
   ]
  },
  {
   "cell_type": "markdown",
   "metadata": {},
   "source": [
    "Currently a float but should be int - checking why"
   ]
  },
  {
   "cell_type": "code",
   "execution_count": 79,
   "metadata": {},
   "outputs": [
    {
     "data": {
      "text/plain": [
       "dtype('float64')"
      ]
     },
     "execution_count": 79,
     "metadata": {},
     "output_type": "execute_result"
    }
   ],
   "source": [
    "df.months_since_last_prom_resp.dtype"
   ]
  },
  {
   "cell_type": "code",
   "execution_count": 80,
   "metadata": {},
   "outputs": [
    {
     "data": {
      "text/plain": [
       "[-11.0, -10.0, -10.0, -9.0, 2.0, 3.0, 6.0, 6.0, 8.0, 8.0]"
      ]
     },
     "execution_count": 80,
     "metadata": {},
     "output_type": "execute_result"
    }
   ],
   "source": [
    "sorted(df.months_since_last_prom_resp)[:10]"
   ]
  },
  {
   "cell_type": "markdown",
   "metadata": {},
   "source": [
    "There are negative values which is weird (cannot have negative time) - changing these to 0."
   ]
  },
  {
   "cell_type": "code",
   "execution_count": 81,
   "metadata": {},
   "outputs": [],
   "source": [
    "df['months_since_last_prom_resp'].values[df.months_since_last_prom_resp<1] = 0"
   ]
  },
  {
   "cell_type": "code",
   "execution_count": 82,
   "metadata": {},
   "outputs": [
    {
     "data": {
      "text/plain": [
       "[0.0, 0.0, 0.0, 2.0, 3.0, 6.0, 6.0, 8.0, 8.0, 8.0]"
      ]
     },
     "execution_count": 82,
     "metadata": {},
     "output_type": "execute_result"
    }
   ],
   "source": [
    "sorted(df.months_since_last_prom_resp)[:10]"
   ]
  },
  {
   "cell_type": "markdown",
   "metadata": {},
   "source": [
    "Also checking for null values"
   ]
  },
  {
   "cell_type": "code",
   "execution_count": 83,
   "metadata": {},
   "outputs": [
    {
     "data": {
      "text/plain": [
       "246"
      ]
     },
     "execution_count": 83,
     "metadata": {},
     "output_type": "execute_result"
    }
   ],
   "source": [
    "df.months_since_last_prom_resp.isnull().sum()"
   ]
  },
  {
   "cell_type": "markdown",
   "metadata": {},
   "source": [
    "246 null values - changing these for the average"
   ]
  },
  {
   "cell_type": "code",
   "execution_count": 84,
   "metadata": {},
   "outputs": [],
   "source": [
    "df.months_since_last_prom_resp.fillna(value=df.months_since_last_prom_resp.mean(),inplace = True)"
   ]
  },
  {
   "cell_type": "markdown",
   "metadata": {},
   "source": [
    "Now changing from float to integer"
   ]
  },
  {
   "cell_type": "code",
   "execution_count": 85,
   "metadata": {},
   "outputs": [
    {
     "data": {
      "text/plain": [
       "dtype('int64')"
      ]
     },
     "execution_count": 85,
     "metadata": {},
     "output_type": "execute_result"
    }
   ],
   "source": [
    "df.months_since_last_prom_resp = df.months_since_last_prom_resp.astype('int64')\n",
    "df.months_since_last_prom_resp.dtype"
   ]
  },
  {
   "cell_type": "markdown",
   "metadata": {},
   "source": [
    "<b>MONTHS SINCE ORIGIN</b> - number of months that the individual has been in the charitable organization's database"
   ]
  },
  {
   "cell_type": "code",
   "execution_count": 86,
   "metadata": {},
   "outputs": [
    {
     "data": {
      "text/plain": [
       "<AxesSubplot:ylabel='Frequency'>"
      ]
     },
     "execution_count": 86,
     "metadata": {},
     "output_type": "execute_result"
    },
    {
     "data": {
      "image/png": "[encoded data removed]",
      "text/plain": [
       "<Figure size 432x288 with 1 Axes>"
      ]
     },
     "metadata": {
      "needs_background": "light"
     },
     "output_type": "display_data"
    }
   ],
   "source": [
    "df.months_since_origin.plot(kind = 'hist')"
   ]
  },
  {
   "cell_type": "code",
   "execution_count": 87,
   "metadata": {},
   "outputs": [
    {
     "data": {
      "text/plain": [
       "0"
      ]
     },
     "execution_count": 87,
     "metadata": {},
     "output_type": "execute_result"
    }
   ],
   "source": [
    "df.months_since_origin.isnull().sum()"
   ]
  },
  {
   "cell_type": "markdown",
   "metadata": {},
   "source": [
    "<b>MOR HIT RATE</b> - total number of known times the donor has responded to a mailed solicitation from a group other than the charitable organization"
   ]
  },
  {
   "cell_type": "code",
   "execution_count": 88,
   "metadata": {},
   "outputs": [
    {
     "data": {
      "text/plain": [
       "0"
      ]
     },
     "execution_count": 88,
     "metadata": {},
     "output_type": "execute_result"
    }
   ],
   "source": [
    "df.mor_hit_rate.isnull().sum()"
   ]
  },
  {
   "cell_type": "code",
   "execution_count": 89,
   "metadata": {},
   "outputs": [
    {
     "name": "stderr",
     "output_type": "stream",
     "text": [
      "C:\\Users\\Aldina\\anaconda3\\envs\\py37\\lib\\site-packages\\seaborn\\distributions.py:2551: FutureWarning: `distplot` is a deprecated function and will be removed in a future version. Please adapt your code to use either `displot` (a figure-level function with similar flexibility) or `histplot` (an axes-level function for histograms).\n",
      "  warnings.warn(msg, FutureWarning)\n"
     ]
    },
    {
     "data": {
      "text/plain": [
       "<AxesSubplot:xlabel='mor_hit_rate', ylabel='Density'>"
      ]
     },
     "execution_count": 89,
     "metadata": {},
     "output_type": "execute_result"
    },
    {
     "data": {
      "image/png": "[encoded data removed]",
      "text/plain": [
       "<Figure size 432x288 with 1 Axes>"
      ]
     },
     "metadata": {
      "needs_background": "light"
     },
     "output_type": "display_data"
    }
   ],
   "source": [
    "sns.distplot(df.mor_hit_rate[df.mor_hit_rate<10])"
   ]
  },
  {
   "cell_type": "markdown",
   "metadata": {},
   "source": [
    "<b>NUMBER PROM 12</b> - number of promotions (card or other) sent to the individual by the charitable organization in the past 12 months"
   ]
  },
  {
   "cell_type": "code",
   "execution_count": 90,
   "metadata": {},
   "outputs": [
    {
     "name": "stderr",
     "output_type": "stream",
     "text": [
      "C:\\Users\\Aldina\\anaconda3\\envs\\py37\\lib\\site-packages\\seaborn\\distributions.py:2551: FutureWarning: `distplot` is a deprecated function and will be removed in a future version. Please adapt your code to use either `displot` (a figure-level function with similar flexibility) or `histplot` (an axes-level function for histograms).\n",
      "  warnings.warn(msg, FutureWarning)\n"
     ]
    },
    {
     "data": {
      "text/plain": [
       "<AxesSubplot:xlabel='number_prom_12', ylabel='Density'>"
      ]
     },
     "execution_count": 90,
     "metadata": {},
     "output_type": "execute_result"
    },
    {
     "data": {
      "image/png": "[encoded data removed]",
      "text/plain": [
       "<Figure size 432x288 with 1 Axes>"
      ]
     },
     "metadata": {
      "needs_background": "light"
     },
     "output_type": "display_data"
    }
   ],
   "source": [
    "sns.distplot(df.number_prom_12)"
   ]
  },
  {
   "cell_type": "code",
   "execution_count": 91,
   "metadata": {},
   "outputs": [
    {
     "data": {
      "text/plain": [
       "count    19372.00\n",
       "mean        12.90\n",
       "std          4.64\n",
       "min          2.00\n",
       "25%         11.00\n",
       "50%         12.00\n",
       "75%         13.00\n",
       "max         64.00\n",
       "Name: number_prom_12, dtype: float64"
      ]
     },
     "execution_count": 91,
     "metadata": {},
     "output_type": "execute_result"
    }
   ],
   "source": [
    "df.number_prom_12.describe()"
   ]
  },
  {
   "cell_type": "code",
   "execution_count": 92,
   "metadata": {},
   "outputs": [
    {
     "data": {
      "text/plain": [
       "0"
      ]
     },
     "execution_count": 92,
     "metadata": {},
     "output_type": "execute_result"
    }
   ],
   "source": [
    "df.number_prom_12.isnull().sum()"
   ]
  },
  {
   "cell_type": "markdown",
   "metadata": {},
   "source": [
    "<b>OVERLAY_SOURCE</b> - the data source against which the individual was matched: M if Metromail, P if Polk, B if both"
   ]
  },
  {
   "cell_type": "code",
   "execution_count": 93,
   "metadata": {},
   "outputs": [
    {
     "data": {
      "text/plain": [
       "B    8732\n",
       "P    4768\n",
       "N    4392\n",
       "M    1480\n",
       "Name: overlay_source, dtype: int64"
      ]
     },
     "execution_count": 93,
     "metadata": {},
     "output_type": "execute_result"
    }
   ],
   "source": [
    "df.overlay_source.value_counts()"
   ]
  },
  {
   "cell_type": "code",
   "execution_count": 94,
   "metadata": {},
   "outputs": [],
   "source": [
    "# df.overlay_source = df.overlay_source.map( {'M':0,'P':1,'B':2 } ).astype('int64')\n"
   ]
  },
  {
   "cell_type": "markdown",
   "metadata": {},
   "source": [
    "<b>PCT_ATTRIBUTE1</b> - percent of residents in the neighborhood in which the individual lives that are males and active military"
   ]
  },
  {
   "cell_type": "code",
   "execution_count": 95,
   "metadata": {},
   "outputs": [
    {
     "data": {
      "text/plain": [
       "0"
      ]
     },
     "execution_count": 95,
     "metadata": {},
     "output_type": "execute_result"
    }
   ],
   "source": [
    "df.pct_attribute1.isnull().sum()"
   ]
  },
  {
   "cell_type": "code",
   "execution_count": 96,
   "metadata": {},
   "outputs": [
    {
     "name": "stderr",
     "output_type": "stream",
     "text": [
      "C:\\Users\\Aldina\\anaconda3\\envs\\py37\\lib\\site-packages\\seaborn\\distributions.py:2551: FutureWarning: `distplot` is a deprecated function and will be removed in a future version. Please adapt your code to use either `displot` (a figure-level function with similar flexibility) or `histplot` (an axes-level function for histograms).\n",
      "  warnings.warn(msg, FutureWarning)\n"
     ]
    },
    {
     "data": {
      "text/plain": [
       "<AxesSubplot:xlabel='pct_attribute1', ylabel='Density'>"
      ]
     },
     "execution_count": 96,
     "metadata": {},
     "output_type": "execute_result"
    },
    {
     "data": {
      "image/png": "[encoded data removed]",
      "text/plain": [
       "<Figure size 432x288 with 1 Axes>"
      ]
     },
     "metadata": {
      "needs_background": "light"
     },
     "output_type": "display_data"
    }
   ],
   "source": [
    "sns.distplot(df.pct_attribute1[df.pct_attribute1<10])"
   ]
  },
  {
   "cell_type": "markdown",
   "metadata": {},
   "source": [
    "<b>PCT_ATTRIBUTE2</b> - percent of residents in the neighborhood in which the individual lives that are males and veterans"
   ]
  },
  {
   "cell_type": "code",
   "execution_count": 97,
   "metadata": {},
   "outputs": [
    {
     "data": {
      "text/plain": [
       "<AxesSubplot:ylabel='Frequency'>"
      ]
     },
     "execution_count": 97,
     "metadata": {},
     "output_type": "execute_result"
    },
    {
     "data": {
      "image/png": "[encoded data removed]",
      "text/plain": [
       "<Figure size 432x288 with 1 Axes>"
      ]
     },
     "metadata": {
      "needs_background": "light"
     },
     "output_type": "display_data"
    }
   ],
   "source": [
    "df.pct_attribute2.plot(kind = 'hist')"
   ]
  },
  {
   "cell_type": "code",
   "execution_count": 98,
   "metadata": {},
   "outputs": [
    {
     "data": {
      "text/plain": [
       "0"
      ]
     },
     "execution_count": 98,
     "metadata": {},
     "output_type": "execute_result"
    }
   ],
   "source": [
    "df.pct_attribute2.isnull().sum()"
   ]
  },
  {
   "cell_type": "markdown",
   "metadata": {},
   "source": [
    "<b>PCT_ATTRIBUTE3</b> - percent of residents in the neighborhood in which the individual lives that are Vietnam veterans"
   ]
  },
  {
   "cell_type": "code",
   "execution_count": 99,
   "metadata": {},
   "outputs": [
    {
     "data": {
      "text/plain": [
       "<AxesSubplot:ylabel='Frequency'>"
      ]
     },
     "execution_count": 99,
     "metadata": {},
     "output_type": "execute_result"
    },
    {
     "data": {
      "image/png": "[encoded data removed]",
      "text/plain": [
       "<Figure size 432x288 with 1 Axes>"
      ]
     },
     "metadata": {
      "needs_background": "light"
     },
     "output_type": "display_data"
    }
   ],
   "source": [
    "df.pct_attribute3.plot(kind = 'hist')"
   ]
  },
  {
   "cell_type": "code",
   "execution_count": 100,
   "metadata": {},
   "outputs": [
    {
     "data": {
      "text/plain": [
       "0"
      ]
     },
     "execution_count": 100,
     "metadata": {},
     "output_type": "execute_result"
    }
   ],
   "source": [
    "df.pct_attribute3.isnull().sum()"
   ]
  },
  {
   "cell_type": "markdown",
   "metadata": {},
   "source": [
    "<b>PCT_ATTRIBUTE4</b> - percent of residents in the neighborhood in which the individual lives that are WWII veterans"
   ]
  },
  {
   "cell_type": "code",
   "execution_count": 101,
   "metadata": {},
   "outputs": [
    {
     "data": {
      "text/plain": [
       "<AxesSubplot:ylabel='Frequency'>"
      ]
     },
     "execution_count": 101,
     "metadata": {},
     "output_type": "execute_result"
    },
    {
     "data": {
      "image/png": "[encoded data removed]",
      "text/plain": [
       "<Figure size 432x288 with 1 Axes>"
      ]
     },
     "metadata": {
      "needs_background": "light"
     },
     "output_type": "display_data"
    }
   ],
   "source": [
    "df.pct_attribute4.plot(kind = 'hist')"
   ]
  },
  {
   "cell_type": "code",
   "execution_count": 102,
   "metadata": {},
   "outputs": [
    {
     "data": {
      "text/plain": [
       "0"
      ]
     },
     "execution_count": 102,
     "metadata": {},
     "output_type": "execute_result"
    }
   ],
   "source": [
    "df.pct_attribute4.isnull().sum()"
   ]
  },
  {
   "cell_type": "markdown",
   "metadata": {},
   "source": [
    "<b>PCT_OWNER_OCCUPIED</b> - percent of owner-occupied housing in the neighborhood in which the individual lives"
   ]
  },
  {
   "cell_type": "code",
   "execution_count": 103,
   "metadata": {},
   "outputs": [
    {
     "data": {
      "text/plain": [
       "<AxesSubplot:ylabel='Frequency'>"
      ]
     },
     "execution_count": 103,
     "metadata": {},
     "output_type": "execute_result"
    },
    {
     "data": {
      "image/png": "[encoded data removed]",
      "text/plain": [
       "<Figure size 432x288 with 1 Axes>"
      ]
     },
     "metadata": {
      "needs_background": "light"
     },
     "output_type": "display_data"
    }
   ],
   "source": [
    "df.pct_owner_occupied.plot(kind = 'hist')"
   ]
  },
  {
   "cell_type": "code",
   "execution_count": 104,
   "metadata": {},
   "outputs": [
    {
     "data": {
      "text/plain": [
       "0"
      ]
     },
     "execution_count": 104,
     "metadata": {},
     "output_type": "execute_result"
    }
   ],
   "source": [
    "df.pct_owner_occupied.isnull().sum()"
   ]
  },
  {
   "cell_type": "markdown",
   "metadata": {},
   "source": [
    "PCT data is clean "
   ]
  },
  {
   "cell_type": "markdown",
   "metadata": {},
   "source": [
    "#### Pep star "
   ]
  },
  {
   "cell_type": "markdown",
   "metadata": {},
   "source": [
    "it's a binary variable, with no nulls, so everything is fine"
   ]
  },
  {
   "cell_type": "markdown",
   "metadata": {},
   "source": [
    "#### Per Capita Income "
   ]
  },
  {
   "cell_type": "code",
   "execution_count": 105,
   "metadata": {},
   "outputs": [
    {
     "name": "stderr",
     "output_type": "stream",
     "text": [
      "C:\\Users\\Aldina\\anaconda3\\envs\\py37\\lib\\site-packages\\seaborn\\distributions.py:2551: FutureWarning: `distplot` is a deprecated function and will be removed in a future version. Please adapt your code to use either `displot` (a figure-level function with similar flexibility) or `histplot` (an axes-level function for histograms).\n",
      "  warnings.warn(msg, FutureWarning)\n"
     ]
    },
    {
     "data": {
      "text/plain": [
       "<AxesSubplot:xlabel='per_capita_income', ylabel='Density'>"
      ]
     },
     "execution_count": 105,
     "metadata": {},
     "output_type": "execute_result"
    },
    {
     "data": {
      "image/png": "[encoded data removed]",
      "text/plain": [
       "<Figure size 432x288 with 1 Axes>"
      ]
     },
     "metadata": {
      "needs_background": "light"
     },
     "output_type": "display_data"
    }
   ],
   "source": [
    "sns.distplot(df.per_capita_income)"
   ]
  },
  {
   "cell_type": "markdown",
   "metadata": {},
   "source": [
    "It was found during the exploration of median_house_value that there are some 0 values that are probably errors in the data. Here we follow the same strategy replacing those values with the average by urbanicity and SES"
   ]
  },
  {
   "cell_type": "code",
   "execution_count": 106,
   "metadata": {},
   "outputs": [],
   "source": [
    "#set the 0 to nan\n",
    "df.loc[df.per_capita_income == 0,'per_capita_income']=np.NaN\n",
    "#group by urbanicity and ses, calculate average and use that\n",
    "df['per_capita_income'] = df.groupby(['ses','urbanicity'], sort=False)['per_capita_income'].apply(lambda x: x.fillna(x.mean()))"
   ]
  },
  {
   "cell_type": "markdown",
   "metadata": {},
   "source": [
    "#### Published phone"
   ]
  },
  {
   "cell_type": "markdown",
   "metadata": {},
   "source": [
    "it's a binary variable, with no nulls."
   ]
  },
  {
   "cell_type": "markdown",
   "metadata": {},
   "source": [
    "#### Recency status 96nk\n",
    "description: recency status as of two years ago: A if active donor, S if star donor, N if new donor, E if inactive donor, F if first time donor, L if lapsing donor"
   ]
  },
  {
   "cell_type": "code",
   "execution_count": 107,
   "metadata": {},
   "outputs": [
    {
     "data": {
      "text/plain": [
       "A    11918\n",
       "S     4221\n",
       "F     1521\n",
       "N     1192\n",
       "E      427\n",
       "L       93\n",
       "Name: recency_status_96nk, dtype: int64"
      ]
     },
     "execution_count": 107,
     "metadata": {},
     "output_type": "execute_result"
    }
   ],
   "source": [
    "df.recency_status_96nk.value_counts()"
   ]
  },
  {
   "cell_type": "markdown",
   "metadata": {},
   "source": [
    "Label encoding was tried but yielded worse results"
   ]
  },
  {
   "cell_type": "markdown",
   "metadata": {},
   "source": [
    "#### RECENT_AVG_CARD_GIFT_AMT\n",
    "average donation from the individual in response to a card solicitation from the charitable organization since four years ago"
   ]
  },
  {
   "cell_type": "code",
   "execution_count": 108,
   "metadata": {},
   "outputs": [
    {
     "name": "stderr",
     "output_type": "stream",
     "text": [
      "C:\\Users\\Aldina\\anaconda3\\envs\\py37\\lib\\site-packages\\seaborn\\distributions.py:2551: FutureWarning: `distplot` is a deprecated function and will be removed in a future version. Please adapt your code to use either `displot` (a figure-level function with similar flexibility) or `histplot` (an axes-level function for histograms).\n",
      "  warnings.warn(msg, FutureWarning)\n"
     ]
    },
    {
     "data": {
      "text/plain": [
       "<AxesSubplot:xlabel='recent_avg_card_gift_amt', ylabel='Density'>"
      ]
     },
     "execution_count": 108,
     "metadata": {},
     "output_type": "execute_result"
    },
    {
     "data": {
      "image/png": "[encoded data removed]",
      "text/plain": [
       "<Figure size 432x288 with 1 Axes>"
      ]
     },
     "metadata": {
      "needs_background": "light"
     },
     "output_type": "display_data"
    }
   ],
   "source": [
    "sns.distplot( df['recent_avg_card_gift_amt'])"
   ]
  },
  {
   "cell_type": "markdown",
   "metadata": {},
   "source": [
    "Data is fine"
   ]
  },
  {
   "cell_type": "markdown",
   "metadata": {},
   "source": [
    "#### RECENT_AVG_GIFT_AMT\n",
    "average donation (in \\\\$) from the individual to the charitable organization since four years ago\n"
   ]
  },
  {
   "cell_type": "code",
   "execution_count": 109,
   "metadata": {},
   "outputs": [
    {
     "name": "stderr",
     "output_type": "stream",
     "text": [
      "C:\\Users\\Aldina\\anaconda3\\envs\\py37\\lib\\site-packages\\seaborn\\distributions.py:2551: FutureWarning: `distplot` is a deprecated function and will be removed in a future version. Please adapt your code to use either `displot` (a figure-level function with similar flexibility) or `histplot` (an axes-level function for histograms).\n",
      "  warnings.warn(msg, FutureWarning)\n"
     ]
    },
    {
     "data": {
      "text/plain": [
       "<AxesSubplot:xlabel='recent_avg_gift_amt', ylabel='Density'>"
      ]
     },
     "execution_count": 109,
     "metadata": {},
     "output_type": "execute_result"
    },
    {
     "data": {
      "image/png": "[encoded data removed]",
      "text/plain": [
       "<Figure size 432x288 with 1 Axes>"
      ]
     },
     "metadata": {
      "needs_background": "light"
     },
     "output_type": "display_data"
    }
   ],
   "source": [
    "sns.distplot(df.recent_avg_gift_amt)"
   ]
  },
  {
   "cell_type": "markdown",
   "metadata": {},
   "source": [
    "Data looks fine!"
   ]
  },
  {
   "cell_type": "markdown",
   "metadata": {},
   "source": [
    "#### RECENT_CARD_RESPONSE_COUNT\n",
    "number of times the individual has responded to a card solicitation from the charitable organization since four years ago"
   ]
  },
  {
   "cell_type": "code",
   "execution_count": 110,
   "metadata": {},
   "outputs": [
    {
     "name": "stderr",
     "output_type": "stream",
     "text": [
      "C:\\Users\\Aldina\\anaconda3\\envs\\py37\\lib\\site-packages\\seaborn\\distributions.py:2551: FutureWarning: `distplot` is a deprecated function and will be removed in a future version. Please adapt your code to use either `displot` (a figure-level function with similar flexibility) or `histplot` (an axes-level function for histograms).\n",
      "  warnings.warn(msg, FutureWarning)\n"
     ]
    },
    {
     "data": {
      "text/plain": [
       "<AxesSubplot:xlabel='recent_card_response_count', ylabel='Density'>"
      ]
     },
     "execution_count": 110,
     "metadata": {},
     "output_type": "execute_result"
    },
    {
     "data": {
      "image/png": "[encoded data removed]",
      "text/plain": [
       "<Figure size 432x288 with 1 Axes>"
      ]
     },
     "metadata": {
      "needs_background": "light"
     },
     "output_type": "display_data"
    }
   ],
   "source": [
    "sns.distplot(df.recent_card_response_count)"
   ]
  },
  {
   "cell_type": "markdown",
   "metadata": {},
   "source": [
    "This is fine"
   ]
  },
  {
   "cell_type": "markdown",
   "metadata": {},
   "source": [
    "#### RECENT_CARD_RESPONSE_PROP\n",
    "proportion of responses to the individual to the number of card solicitations from the charitable organization since four years ago\n"
   ]
  },
  {
   "cell_type": "code",
   "execution_count": 111,
   "metadata": {},
   "outputs": [
    {
     "name": "stderr",
     "output_type": "stream",
     "text": [
      "C:\\Users\\Aldina\\anaconda3\\envs\\py37\\lib\\site-packages\\seaborn\\distributions.py:2551: FutureWarning: `distplot` is a deprecated function and will be removed in a future version. Please adapt your code to use either `displot` (a figure-level function with similar flexibility) or `histplot` (an axes-level function for histograms).\n",
      "  warnings.warn(msg, FutureWarning)\n"
     ]
    },
    {
     "data": {
      "text/plain": [
       "<AxesSubplot:xlabel='recent_card_response_prop', ylabel='Density'>"
      ]
     },
     "execution_count": 111,
     "metadata": {},
     "output_type": "execute_result"
    },
    {
     "data": {
      "image/png": "[encoded data removed]",
      "text/plain": [
       "<Figure size 432x288 with 1 Axes>"
      ]
     },
     "metadata": {
      "needs_background": "light"
     },
     "output_type": "display_data"
    }
   ],
   "source": [
    "sns.distplot(df.recent_card_response_prop)"
   ]
  },
  {
   "cell_type": "markdown",
   "metadata": {},
   "source": [
    "**note:** ideas to try\n",
    "* bin variable\n",
    "* could be done in categories as most is under 0.6\n"
   ]
  },
  {
   "cell_type": "markdown",
   "metadata": {},
   "source": [
    "#### RECENT_RESPONSE_COUNT\n",
    "number of times the individual has responded to a promotion (card or other) from the charitable organization since four years ago\n"
   ]
  },
  {
   "cell_type": "code",
   "execution_count": 112,
   "metadata": {},
   "outputs": [
    {
     "name": "stderr",
     "output_type": "stream",
     "text": [
      "C:\\Users\\Aldina\\anaconda3\\envs\\py37\\lib\\site-packages\\seaborn\\distributions.py:2551: FutureWarning: `distplot` is a deprecated function and will be removed in a future version. Please adapt your code to use either `displot` (a figure-level function with similar flexibility) or `histplot` (an axes-level function for histograms).\n",
      "  warnings.warn(msg, FutureWarning)\n"
     ]
    },
    {
     "data": {
      "text/plain": [
       "<AxesSubplot:xlabel='recent_response_count', ylabel='Density'>"
      ]
     },
     "execution_count": 112,
     "metadata": {},
     "output_type": "execute_result"
    },
    {
     "data": {
      "image/png": "[encoded data removed]",
      "text/plain": [
       "<Figure size 432x288 with 1 Axes>"
      ]
     },
     "metadata": {
      "needs_background": "light"
     },
     "output_type": "display_data"
    }
   ],
   "source": [
    "sns.distplot(df.recent_response_count)"
   ]
  },
  {
   "cell_type": "markdown",
   "metadata": {},
   "source": [
    "**note:** ideas to try\n",
    "* bin variable\n",
    "* bins 0,1,2,3,4,5,6,>7?\n",
    "\n"
   ]
  },
  {
   "cell_type": "markdown",
   "metadata": {},
   "source": [
    "#### RECENT_RESPONSE_PROP\n",
    "proportion of responses to the individual to the number of (card or other) solicitations from the charitable organization since four years ago\n"
   ]
  },
  {
   "cell_type": "code",
   "execution_count": 113,
   "metadata": {},
   "outputs": [
    {
     "name": "stderr",
     "output_type": "stream",
     "text": [
      "C:\\Users\\Aldina\\anaconda3\\envs\\py37\\lib\\site-packages\\seaborn\\distributions.py:2551: FutureWarning: `distplot` is a deprecated function and will be removed in a future version. Please adapt your code to use either `displot` (a figure-level function with similar flexibility) or `histplot` (an axes-level function for histograms).\n",
      "  warnings.warn(msg, FutureWarning)\n"
     ]
    },
    {
     "data": {
      "text/plain": [
       "<AxesSubplot:xlabel='recent_response_prop', ylabel='Density'>"
      ]
     },
     "execution_count": 113,
     "metadata": {},
     "output_type": "execute_result"
    },
    {
     "data": {
      "image/png": "[encoded data removed]",
      "text/plain": [
       "<Figure size 432x288 with 1 Axes>"
      ]
     },
     "metadata": {
      "needs_background": "light"
     },
     "output_type": "display_data"
    }
   ],
   "source": [
    "sns.distplot(df.recent_response_prop)"
   ]
  },
  {
   "cell_type": "markdown",
   "metadata": {},
   "source": [
    "Data looks fine"
   ]
  },
  {
   "cell_type": "markdown",
   "metadata": {},
   "source": [
    "#### RECENT_STAR_STATUS\n",
    "1 if individual has achieved star donor status since four years ago, 0 if not\n"
   ]
  },
  {
   "cell_type": "code",
   "execution_count": 114,
   "metadata": {},
   "outputs": [
    {
     "name": "stdout",
     "output_type": "stream",
     "text": [
      "0     13239\n",
      "1      4289\n",
      "3       346\n",
      "4       320\n",
      "5       205\n",
      "11      183\n",
      "7       140\n",
      "12      122\n",
      "6        88\n",
      "10       86\n",
      "13       84\n",
      "14       61\n",
      "8        54\n",
      "19       27\n",
      "2        26\n",
      "15       26\n",
      "16       18\n",
      "17       15\n",
      "9        15\n",
      "18       12\n",
      "21       10\n",
      "20        4\n",
      "22        2\n",
      "Name: recent_star_status, dtype: int64\n"
     ]
    }
   ],
   "source": [
    "print(df.recent_star_status.value_counts())"
   ]
  },
  {
   "cell_type": "markdown",
   "metadata": {},
   "source": [
    "What to do with values above 1. Let's see whether these people have donated and whether they look like people with star status 1. Probably need clustering to check this."
   ]
  },
  {
   "cell_type": "code",
   "execution_count": 115,
   "metadata": {},
   "outputs": [
    {
     "data": {
      "text/html": [
       "<div>\n",
       "<style scoped>\n",
       "    .dataframe tbody tr th:only-of-type {\n",
       "        vertical-align: middle;\n",
       "    }\n",
       "\n",
       "    .dataframe tbody tr th {\n",
       "        vertical-align: top;\n",
       "    }\n",
       "\n",
       "    .dataframe thead th {\n",
       "        text-align: right;\n",
       "    }\n",
       "</style>\n",
       "<table border=\"1\" class=\"dataframe\">\n",
       "  <thead>\n",
       "    <tr style=\"text-align: right;\">\n",
       "      <th></th>\n",
       "      <th>index</th>\n",
       "      <th>card_prom_12</th>\n",
       "      <th>cluster_code</th>\n",
       "      <th>donor_age</th>\n",
       "      <th>donor_gender</th>\n",
       "      <th>file_card_gift</th>\n",
       "      <th>frequency_status_97nk</th>\n",
       "      <th>home_owner</th>\n",
       "      <th>income_group</th>\n",
       "      <th>in_house</th>\n",
       "      <th>last_gift_amt</th>\n",
       "      <th>lifetime_avg_gift_amt</th>\n",
       "      <th>lifetime_card_prom</th>\n",
       "      <th>lifetime_gift_amount</th>\n",
       "      <th>lifetime_gift_count</th>\n",
       "      <th>lifetime_gift_range</th>\n",
       "      <th>lifetime_max_gift_amt</th>\n",
       "      <th>lifetime_min_gift_amt</th>\n",
       "      <th>lifetime_prom</th>\n",
       "      <th>median_home_value</th>\n",
       "      <th>...</th>\n",
       "      <th>pct_attribute2</th>\n",
       "      <th>pct_attribute3</th>\n",
       "      <th>pct_attribute4</th>\n",
       "      <th>pct_owner_occupied</th>\n",
       "      <th>pep_star</th>\n",
       "      <th>per_capita_income</th>\n",
       "      <th>published_phone</th>\n",
       "      <th>recency_status_96nk</th>\n",
       "      <th>recent_avg_card_gift_amt</th>\n",
       "      <th>recent_avg_gift_amt</th>\n",
       "      <th>recent_card_response_count</th>\n",
       "      <th>recent_card_response_prop</th>\n",
       "      <th>recent_response_count</th>\n",
       "      <th>recent_response_prop</th>\n",
       "      <th>recent_star_status</th>\n",
       "      <th>ses</th>\n",
       "      <th>target_b</th>\n",
       "      <th>target_d</th>\n",
       "      <th>urbanicity</th>\n",
       "      <th>wealth_rating</th>\n",
       "    </tr>\n",
       "  </thead>\n",
       "  <tbody>\n",
       "    <tr>\n",
       "      <th>12267</th>\n",
       "      <td>12267</td>\n",
       "      <td>6</td>\n",
       "      <td>48</td>\n",
       "      <td>73.0</td>\n",
       "      <td>F</td>\n",
       "      <td>5</td>\n",
       "      <td>4</td>\n",
       "      <td>H</td>\n",
       "      <td>5.0</td>\n",
       "      <td>0</td>\n",
       "      <td>3.0</td>\n",
       "      <td>2.30</td>\n",
       "      <td>13</td>\n",
       "      <td>23.0</td>\n",
       "      <td>10</td>\n",
       "      <td>4.0</td>\n",
       "      <td>5.0</td>\n",
       "      <td>1.0</td>\n",
       "      <td>30</td>\n",
       "      <td>614</td>\n",
       "      <td>...</td>\n",
       "      <td>53</td>\n",
       "      <td>21</td>\n",
       "      <td>45</td>\n",
       "      <td>81</td>\n",
       "      <td>1</td>\n",
       "      <td>13969.0</td>\n",
       "      <td>0</td>\n",
       "      <td>S</td>\n",
       "      <td>3.00</td>\n",
       "      <td>2.50</td>\n",
       "      <td>4</td>\n",
       "      <td>0.50</td>\n",
       "      <td>6</td>\n",
       "      <td>0.38</td>\n",
       "      <td>1</td>\n",
       "      <td>2</td>\n",
       "      <td>0</td>\n",
       "      <td>NaN</td>\n",
       "      <td>R</td>\n",
       "      <td>NaN</td>\n",
       "    </tr>\n",
       "    <tr>\n",
       "      <th>11269</th>\n",
       "      <td>11269</td>\n",
       "      <td>5</td>\n",
       "      <td>41</td>\n",
       "      <td>NaN</td>\n",
       "      <td>F</td>\n",
       "      <td>8</td>\n",
       "      <td>4</td>\n",
       "      <td>U</td>\n",
       "      <td>NaN</td>\n",
       "      <td>0</td>\n",
       "      <td>1.0</td>\n",
       "      <td>1.60</td>\n",
       "      <td>16</td>\n",
       "      <td>24.0</td>\n",
       "      <td>15</td>\n",
       "      <td>4.0</td>\n",
       "      <td>5.0</td>\n",
       "      <td>1.0</td>\n",
       "      <td>43</td>\n",
       "      <td>199</td>\n",
       "      <td>...</td>\n",
       "      <td>28</td>\n",
       "      <td>26</td>\n",
       "      <td>34</td>\n",
       "      <td>62</td>\n",
       "      <td>1</td>\n",
       "      <td>6390.0</td>\n",
       "      <td>0</td>\n",
       "      <td>S</td>\n",
       "      <td>1.33</td>\n",
       "      <td>2.17</td>\n",
       "      <td>3</td>\n",
       "      <td>0.50</td>\n",
       "      <td>6</td>\n",
       "      <td>0.43</td>\n",
       "      <td>1</td>\n",
       "      <td>3</td>\n",
       "      <td>0</td>\n",
       "      <td>NaN</td>\n",
       "      <td>T</td>\n",
       "      <td>NaN</td>\n",
       "    </tr>\n",
       "    <tr>\n",
       "      <th>9169</th>\n",
       "      <td>9169</td>\n",
       "      <td>5</td>\n",
       "      <td>44</td>\n",
       "      <td>NaN</td>\n",
       "      <td>F</td>\n",
       "      <td>2</td>\n",
       "      <td>1</td>\n",
       "      <td>U</td>\n",
       "      <td>NaN</td>\n",
       "      <td>0</td>\n",
       "      <td>15.0</td>\n",
       "      <td>8.33</td>\n",
       "      <td>10</td>\n",
       "      <td>25.0</td>\n",
       "      <td>3</td>\n",
       "      <td>10.0</td>\n",
       "      <td>15.0</td>\n",
       "      <td>5.0</td>\n",
       "      <td>24</td>\n",
       "      <td>913</td>\n",
       "      <td>...</td>\n",
       "      <td>31</td>\n",
       "      <td>33</td>\n",
       "      <td>26</td>\n",
       "      <td>73</td>\n",
       "      <td>1</td>\n",
       "      <td>14975.0</td>\n",
       "      <td>0</td>\n",
       "      <td>S</td>\n",
       "      <td>5.00</td>\n",
       "      <td>8.33</td>\n",
       "      <td>2</td>\n",
       "      <td>0.29</td>\n",
       "      <td>3</td>\n",
       "      <td>0.19</td>\n",
       "      <td>1</td>\n",
       "      <td>2</td>\n",
       "      <td>0</td>\n",
       "      <td>NaN</td>\n",
       "      <td>R</td>\n",
       "      <td>NaN</td>\n",
       "    </tr>\n",
       "    <tr>\n",
       "      <th>11280</th>\n",
       "      <td>11280</td>\n",
       "      <td>6</td>\n",
       "      <td>30</td>\n",
       "      <td>NaN</td>\n",
       "      <td>F</td>\n",
       "      <td>5</td>\n",
       "      <td>4</td>\n",
       "      <td>U</td>\n",
       "      <td>NaN</td>\n",
       "      <td>0</td>\n",
       "      <td>5.0</td>\n",
       "      <td>3.57</td>\n",
       "      <td>14</td>\n",
       "      <td>25.0</td>\n",
       "      <td>7</td>\n",
       "      <td>3.0</td>\n",
       "      <td>5.0</td>\n",
       "      <td>2.0</td>\n",
       "      <td>30</td>\n",
       "      <td>280</td>\n",
       "      <td>...</td>\n",
       "      <td>33</td>\n",
       "      <td>36</td>\n",
       "      <td>26</td>\n",
       "      <td>47</td>\n",
       "      <td>1</td>\n",
       "      <td>7742.0</td>\n",
       "      <td>0</td>\n",
       "      <td>S</td>\n",
       "      <td>4.00</td>\n",
       "      <td>3.60</td>\n",
       "      <td>4</td>\n",
       "      <td>0.44</td>\n",
       "      <td>5</td>\n",
       "      <td>0.31</td>\n",
       "      <td>1</td>\n",
       "      <td>3</td>\n",
       "      <td>0</td>\n",
       "      <td>NaN</td>\n",
       "      <td>C</td>\n",
       "      <td>NaN</td>\n",
       "    </tr>\n",
       "    <tr>\n",
       "      <th>17003</th>\n",
       "      <td>17003</td>\n",
       "      <td>4</td>\n",
       "      <td>46</td>\n",
       "      <td>69.0</td>\n",
       "      <td>M</td>\n",
       "      <td>4</td>\n",
       "      <td>4</td>\n",
       "      <td>H</td>\n",
       "      <td>5.0</td>\n",
       "      <td>0</td>\n",
       "      <td>7.0</td>\n",
       "      <td>5.20</td>\n",
       "      <td>8</td>\n",
       "      <td>26.0</td>\n",
       "      <td>5</td>\n",
       "      <td>4.0</td>\n",
       "      <td>7.0</td>\n",
       "      <td>3.0</td>\n",
       "      <td>20</td>\n",
       "      <td>1050</td>\n",
       "      <td>...</td>\n",
       "      <td>45</td>\n",
       "      <td>22</td>\n",
       "      <td>50</td>\n",
       "      <td>76</td>\n",
       "      <td>1</td>\n",
       "      <td>11406.0</td>\n",
       "      <td>1</td>\n",
       "      <td>S</td>\n",
       "      <td>5.25</td>\n",
       "      <td>5.20</td>\n",
       "      <td>4</td>\n",
       "      <td>0.67</td>\n",
       "      <td>5</td>\n",
       "      <td>0.39</td>\n",
       "      <td>1</td>\n",
       "      <td>2</td>\n",
       "      <td>1</td>\n",
       "      <td>9.0</td>\n",
       "      <td>R</td>\n",
       "      <td>NaN</td>\n",
       "    </tr>\n",
       "    <tr>\n",
       "      <th>...</th>\n",
       "      <td>...</td>\n",
       "      <td>...</td>\n",
       "      <td>...</td>\n",
       "      <td>...</td>\n",
       "      <td>...</td>\n",
       "      <td>...</td>\n",
       "      <td>...</td>\n",
       "      <td>...</td>\n",
       "      <td>...</td>\n",
       "      <td>...</td>\n",
       "      <td>...</td>\n",
       "      <td>...</td>\n",
       "      <td>...</td>\n",
       "      <td>...</td>\n",
       "      <td>...</td>\n",
       "      <td>...</td>\n",
       "      <td>...</td>\n",
       "      <td>...</td>\n",
       "      <td>...</td>\n",
       "      <td>...</td>\n",
       "      <td>...</td>\n",
       "      <td>...</td>\n",
       "      <td>...</td>\n",
       "      <td>...</td>\n",
       "      <td>...</td>\n",
       "      <td>...</td>\n",
       "      <td>...</td>\n",
       "      <td>...</td>\n",
       "      <td>...</td>\n",
       "      <td>...</td>\n",
       "      <td>...</td>\n",
       "      <td>...</td>\n",
       "      <td>...</td>\n",
       "      <td>...</td>\n",
       "      <td>...</td>\n",
       "      <td>...</td>\n",
       "      <td>...</td>\n",
       "      <td>...</td>\n",
       "      <td>...</td>\n",
       "      <td>...</td>\n",
       "      <td>...</td>\n",
       "    </tr>\n",
       "    <tr>\n",
       "      <th>18648</th>\n",
       "      <td>18648</td>\n",
       "      <td>6</td>\n",
       "      <td>3</td>\n",
       "      <td>47.0</td>\n",
       "      <td>M</td>\n",
       "      <td>7</td>\n",
       "      <td>1</td>\n",
       "      <td>H</td>\n",
       "      <td>6.0</td>\n",
       "      <td>1</td>\n",
       "      <td>110.0</td>\n",
       "      <td>89.44</td>\n",
       "      <td>26</td>\n",
       "      <td>1610.0</td>\n",
       "      <td>18</td>\n",
       "      <td>175.0</td>\n",
       "      <td>200.0</td>\n",
       "      <td>25.0</td>\n",
       "      <td>118</td>\n",
       "      <td>2442</td>\n",
       "      <td>...</td>\n",
       "      <td>25</td>\n",
       "      <td>47</td>\n",
       "      <td>17</td>\n",
       "      <td>56</td>\n",
       "      <td>1</td>\n",
       "      <td>38212.0</td>\n",
       "      <td>1</td>\n",
       "      <td>A</td>\n",
       "      <td>100.00</td>\n",
       "      <td>150.00</td>\n",
       "      <td>1</td>\n",
       "      <td>0.11</td>\n",
       "      <td>2</td>\n",
       "      <td>0.11</td>\n",
       "      <td>5</td>\n",
       "      <td>1</td>\n",
       "      <td>1</td>\n",
       "      <td>100.0</td>\n",
       "      <td>U</td>\n",
       "      <td>NaN</td>\n",
       "    </tr>\n",
       "    <tr>\n",
       "      <th>18643</th>\n",
       "      <td>18643</td>\n",
       "      <td>7</td>\n",
       "      <td>45</td>\n",
       "      <td>37.0</td>\n",
       "      <td>F</td>\n",
       "      <td>15</td>\n",
       "      <td>4</td>\n",
       "      <td>U</td>\n",
       "      <td>2.0</td>\n",
       "      <td>1</td>\n",
       "      <td>5.0</td>\n",
       "      <td>23.85</td>\n",
       "      <td>37</td>\n",
       "      <td>1622.0</td>\n",
       "      <td>68</td>\n",
       "      <td>997.0</td>\n",
       "      <td>1000.0</td>\n",
       "      <td>3.0</td>\n",
       "      <td>144</td>\n",
       "      <td>476</td>\n",
       "      <td>...</td>\n",
       "      <td>31</td>\n",
       "      <td>17</td>\n",
       "      <td>31</td>\n",
       "      <td>64</td>\n",
       "      <td>1</td>\n",
       "      <td>10581.0</td>\n",
       "      <td>0</td>\n",
       "      <td>S</td>\n",
       "      <td>7.33</td>\n",
       "      <td>7.67</td>\n",
       "      <td>3</td>\n",
       "      <td>0.30</td>\n",
       "      <td>6</td>\n",
       "      <td>0.32</td>\n",
       "      <td>1</td>\n",
       "      <td>2</td>\n",
       "      <td>1</td>\n",
       "      <td>8.0</td>\n",
       "      <td>R</td>\n",
       "      <td>2.0</td>\n",
       "    </tr>\n",
       "    <tr>\n",
       "      <th>1306</th>\n",
       "      <td>1306</td>\n",
       "      <td>4</td>\n",
       "      <td>.</td>\n",
       "      <td>17.0</td>\n",
       "      <td>F</td>\n",
       "      <td>17</td>\n",
       "      <td>4</td>\n",
       "      <td>U</td>\n",
       "      <td>NaN</td>\n",
       "      <td>1</td>\n",
       "      <td>133.0</td>\n",
       "      <td>63.04</td>\n",
       "      <td>29</td>\n",
       "      <td>1765.0</td>\n",
       "      <td>28</td>\n",
       "      <td>128.0</td>\n",
       "      <td>133.0</td>\n",
       "      <td>5.0</td>\n",
       "      <td>100</td>\n",
       "      <td>1375</td>\n",
       "      <td>...</td>\n",
       "      <td>0</td>\n",
       "      <td>0</td>\n",
       "      <td>0</td>\n",
       "      <td>25</td>\n",
       "      <td>1</td>\n",
       "      <td>18247.0</td>\n",
       "      <td>0</td>\n",
       "      <td>S</td>\n",
       "      <td>99.80</td>\n",
       "      <td>99.83</td>\n",
       "      <td>5</td>\n",
       "      <td>0.46</td>\n",
       "      <td>6</td>\n",
       "      <td>0.30</td>\n",
       "      <td>1</td>\n",
       "      <td>?</td>\n",
       "      <td>1</td>\n",
       "      <td>102.0</td>\n",
       "      <td>?</td>\n",
       "      <td>8.0</td>\n",
       "    </tr>\n",
       "    <tr>\n",
       "      <th>878</th>\n",
       "      <td>878</td>\n",
       "      <td>7</td>\n",
       "      <td>49</td>\n",
       "      <td>75.0</td>\n",
       "      <td>F</td>\n",
       "      <td>23</td>\n",
       "      <td>1</td>\n",
       "      <td>H</td>\n",
       "      <td>4.0</td>\n",
       "      <td>1</td>\n",
       "      <td>39.0</td>\n",
       "      <td>26.83</td>\n",
       "      <td>34</td>\n",
       "      <td>2200.0</td>\n",
       "      <td>82</td>\n",
       "      <td>97.0</td>\n",
       "      <td>100.0</td>\n",
       "      <td>3.0</td>\n",
       "      <td>95</td>\n",
       "      <td>448</td>\n",
       "      <td>...</td>\n",
       "      <td>31</td>\n",
       "      <td>31</td>\n",
       "      <td>22</td>\n",
       "      <td>69</td>\n",
       "      <td>1</td>\n",
       "      <td>10379.0</td>\n",
       "      <td>0</td>\n",
       "      <td>A</td>\n",
       "      <td>46.50</td>\n",
       "      <td>46.50</td>\n",
       "      <td>4</td>\n",
       "      <td>0.36</td>\n",
       "      <td>4</td>\n",
       "      <td>0.21</td>\n",
       "      <td>4</td>\n",
       "      <td>2</td>\n",
       "      <td>1</td>\n",
       "      <td>47.0</td>\n",
       "      <td>R</td>\n",
       "      <td>3.0</td>\n",
       "    </tr>\n",
       "    <tr>\n",
       "      <th>18653</th>\n",
       "      <td>18653</td>\n",
       "      <td>6</td>\n",
       "      <td>24</td>\n",
       "      <td>79.0</td>\n",
       "      <td>F</td>\n",
       "      <td>11</td>\n",
       "      <td>1</td>\n",
       "      <td>U</td>\n",
       "      <td>5.0</td>\n",
       "      <td>1</td>\n",
       "      <td>100.0</td>\n",
       "      <td>96.79</td>\n",
       "      <td>32</td>\n",
       "      <td>3775.0</td>\n",
       "      <td>39</td>\n",
       "      <td>191.0</td>\n",
       "      <td>201.0</td>\n",
       "      <td>10.0</td>\n",
       "      <td>139</td>\n",
       "      <td>938</td>\n",
       "      <td>...</td>\n",
       "      <td>33</td>\n",
       "      <td>22</td>\n",
       "      <td>27</td>\n",
       "      <td>91</td>\n",
       "      <td>1</td>\n",
       "      <td>16699.0</td>\n",
       "      <td>1</td>\n",
       "      <td>A</td>\n",
       "      <td>125.00</td>\n",
       "      <td>162.50</td>\n",
       "      <td>1</td>\n",
       "      <td>0.09</td>\n",
       "      <td>2</td>\n",
       "      <td>0.09</td>\n",
       "      <td>14</td>\n",
       "      <td>1</td>\n",
       "      <td>0</td>\n",
       "      <td>NaN</td>\n",
       "      <td>C</td>\n",
       "      <td>8.0</td>\n",
       "    </tr>\n",
       "  </tbody>\n",
       "</table>\n",
       "<p>6133 rows × 49 columns</p>\n",
       "</div>"
      ],
      "text/plain": [
       "       index  card_prom_12 cluster_code  donor_age donor_gender  \\\n",
       "12267  12267             6           48       73.0            F   \n",
       "11269  11269             5           41        NaN            F   \n",
       "9169    9169             5           44        NaN            F   \n",
       "11280  11280             6           30        NaN            F   \n",
       "17003  17003             4           46       69.0            M   \n",
       "...      ...           ...          ...        ...          ...   \n",
       "18648  18648             6            3       47.0            M   \n",
       "18643  18643             7           45       37.0            F   \n",
       "1306    1306             4            .       17.0            F   \n",
       "878      878             7           49       75.0            F   \n",
       "18653  18653             6           24       79.0            F   \n",
       "\n",
       "       file_card_gift  frequency_status_97nk home_owner  income_group  \\\n",
       "12267               5                      4          H           5.0   \n",
       "11269               8                      4          U           NaN   \n",
       "9169                2                      1          U           NaN   \n",
       "11280               5                      4          U           NaN   \n",
       "17003               4                      4          H           5.0   \n",
       "...               ...                    ...        ...           ...   \n",
       "18648               7                      1          H           6.0   \n",
       "18643              15                      4          U           2.0   \n",
       "1306               17                      4          U           NaN   \n",
       "878                23                      1          H           4.0   \n",
       "18653              11                      1          U           5.0   \n",
       "\n",
       "       in_house  last_gift_amt  lifetime_avg_gift_amt  lifetime_card_prom  \\\n",
       "12267         0            3.0                   2.30                  13   \n",
       "11269         0            1.0                   1.60                  16   \n",
       "9169          0           15.0                   8.33                  10   \n",
       "11280         0            5.0                   3.57                  14   \n",
       "17003         0            7.0                   5.20                   8   \n",
       "...         ...            ...                    ...                 ...   \n",
       "18648         1          110.0                  89.44                  26   \n",
       "18643         1            5.0                  23.85                  37   \n",
       "1306          1          133.0                  63.04                  29   \n",
       "878           1           39.0                  26.83                  34   \n",
       "18653         1          100.0                  96.79                  32   \n",
       "\n",
       "       lifetime_gift_amount  lifetime_gift_count  lifetime_gift_range  \\\n",
       "12267                  23.0                   10                  4.0   \n",
       "11269                  24.0                   15                  4.0   \n",
       "9169                   25.0                    3                 10.0   \n",
       "11280                  25.0                    7                  3.0   \n",
       "17003                  26.0                    5                  4.0   \n",
       "...                     ...                  ...                  ...   \n",
       "18648                1610.0                   18                175.0   \n",
       "18643                1622.0                   68                997.0   \n",
       "1306                 1765.0                   28                128.0   \n",
       "878                  2200.0                   82                 97.0   \n",
       "18653                3775.0                   39                191.0   \n",
       "\n",
       "       lifetime_max_gift_amt  lifetime_min_gift_amt  lifetime_prom  \\\n",
       "12267                    5.0                    1.0             30   \n",
       "11269                    5.0                    1.0             43   \n",
       "9169                    15.0                    5.0             24   \n",
       "11280                    5.0                    2.0             30   \n",
       "17003                    7.0                    3.0             20   \n",
       "...                      ...                    ...            ...   \n",
       "18648                  200.0                   25.0            118   \n",
       "18643                 1000.0                    3.0            144   \n",
       "1306                   133.0                    5.0            100   \n",
       "878                    100.0                    3.0             95   \n",
       "18653                  201.0                   10.0            139   \n",
       "\n",
       "       median_home_value  ...  pct_attribute2  pct_attribute3  pct_attribute4  \\\n",
       "12267                614  ...              53              21              45   \n",
       "11269                199  ...              28              26              34   \n",
       "9169                 913  ...              31              33              26   \n",
       "11280                280  ...              33              36              26   \n",
       "17003               1050  ...              45              22              50   \n",
       "...                  ...  ...             ...             ...             ...   \n",
       "18648               2442  ...              25              47              17   \n",
       "18643                476  ...              31              17              31   \n",
       "1306                1375  ...               0               0               0   \n",
       "878                  448  ...              31              31              22   \n",
       "18653                938  ...              33              22              27   \n",
       "\n",
       "       pct_owner_occupied  pep_star  per_capita_income  published_phone  \\\n",
       "12267                  81         1            13969.0                0   \n",
       "11269                  62         1             6390.0                0   \n",
       "9169                   73         1            14975.0                0   \n",
       "11280                  47         1             7742.0                0   \n",
       "17003                  76         1            11406.0                1   \n",
       "...                   ...       ...                ...              ...   \n",
       "18648                  56         1            38212.0                1   \n",
       "18643                  64         1            10581.0                0   \n",
       "1306                   25         1            18247.0                0   \n",
       "878                    69         1            10379.0                0   \n",
       "18653                  91         1            16699.0                1   \n",
       "\n",
       "      recency_status_96nk  recent_avg_card_gift_amt  recent_avg_gift_amt  \\\n",
       "12267                   S                      3.00                 2.50   \n",
       "11269                   S                      1.33                 2.17   \n",
       "9169                    S                      5.00                 8.33   \n",
       "11280                   S                      4.00                 3.60   \n",
       "17003                   S                      5.25                 5.20   \n",
       "...                   ...                       ...                  ...   \n",
       "18648                   A                    100.00               150.00   \n",
       "18643                   S                      7.33                 7.67   \n",
       "1306                    S                     99.80                99.83   \n",
       "878                     A                     46.50                46.50   \n",
       "18653                   A                    125.00               162.50   \n",
       "\n",
       "       recent_card_response_count  recent_card_response_prop  \\\n",
       "12267                           4                       0.50   \n",
       "11269                           3                       0.50   \n",
       "9169                            2                       0.29   \n",
       "11280                           4                       0.44   \n",
       "17003                           4                       0.67   \n",
       "...                           ...                        ...   \n",
       "18648                           1                       0.11   \n",
       "18643                           3                       0.30   \n",
       "1306                            5                       0.46   \n",
       "878                             4                       0.36   \n",
       "18653                           1                       0.09   \n",
       "\n",
       "       recent_response_count  recent_response_prop  recent_star_status  ses  \\\n",
       "12267                      6                  0.38                   1    2   \n",
       "11269                      6                  0.43                   1    3   \n",
       "9169                       3                  0.19                   1    2   \n",
       "11280                      5                  0.31                   1    3   \n",
       "17003                      5                  0.39                   1    2   \n",
       "...                      ...                   ...                 ...  ...   \n",
       "18648                      2                  0.11                   5    1   \n",
       "18643                      6                  0.32                   1    2   \n",
       "1306                       6                  0.30                   1    ?   \n",
       "878                        4                  0.21                   4    2   \n",
       "18653                      2                  0.09                  14    1   \n",
       "\n",
       "      target_b  target_d  urbanicity  wealth_rating  \n",
       "12267        0       NaN           R            NaN  \n",
       "11269        0       NaN           T            NaN  \n",
       "9169         0       NaN           R            NaN  \n",
       "11280        0       NaN           C            NaN  \n",
       "17003        1       9.0           R            NaN  \n",
       "...        ...       ...         ...            ...  \n",
       "18648        1     100.0           U            NaN  \n",
       "18643        1       8.0           R            2.0  \n",
       "1306         1     102.0           ?            8.0  \n",
       "878          1      47.0           R            3.0  \n",
       "18653        0       NaN           C            8.0  \n",
       "\n",
       "[6133 rows x 49 columns]"
      ]
     },
     "execution_count": 115,
     "metadata": {},
     "output_type": "execute_result"
    }
   ],
   "source": [
    "df[df.recent_star_status > 0].sort_values(by = ['lifetime_gift_amount'])"
   ]
  },
  {
   "cell_type": "markdown",
   "metadata": {},
   "source": [
    "**What to do with all the values > 1?**\n",
    "\n",
    "Replace with 1: When looking at the lifetime_gift_amount, they have donated a lot, so it is probable that they should have received star status. Therefore, imputing with 1\n",
    "\n"
   ]
  },
  {
   "cell_type": "code",
   "execution_count": 116,
   "metadata": {},
   "outputs": [
    {
     "data": {
      "text/plain": [
       "0    13239\n",
       "1     6133\n",
       "Name: recent_star_status, dtype: int64"
      ]
     },
     "execution_count": 116,
     "metadata": {},
     "output_type": "execute_result"
    }
   ],
   "source": [
    "df['recent_star_status'].values[df.recent_star_status > 1] = 1\n",
    "df.recent_star_status.value_counts()"
   ]
  },
  {
   "cell_type": "markdown",
   "metadata": {},
   "source": [
    "#### SES\n",
    "one of 5 possible socioeconomic codes classifying the neighborhood in which the individual lives"
   ]
  },
  {
   "cell_type": "code",
   "execution_count": 117,
   "metadata": {},
   "outputs": [
    {
     "data": {
      "text/plain": [
       "2    9284\n",
       "1    5924\n",
       "3    3323\n",
       "?     454\n",
       "4     387\n",
       "Name: ses, dtype: int64"
      ]
     },
     "execution_count": 117,
     "metadata": {},
     "output_type": "execute_result"
    }
   ],
   "source": [
    "df_reset()\n",
    "df.ses.value_counts()"
   ]
  },
  {
   "cell_type": "markdown",
   "metadata": {},
   "source": [
    "The weird '?' value correspond to the weird '.' value in the cluster code feature. Therefore, these are already taken out by that error removal."
   ]
  },
  {
   "cell_type": "markdown",
   "metadata": {},
   "source": [
    "#### URBANICITY\n",
    "classification of the neighborhood in which the individual lives: U if urban, C if city, S if suburban, T if town, R if rural, ? if missing"
   ]
  },
  {
   "cell_type": "code",
   "execution_count": 118,
   "metadata": {},
   "outputs": [
    {
     "data": {
      "text/plain": [
       "S    4491\n",
       "C    4022\n",
       "R    4005\n",
       "T    3944\n",
       "U    2456\n",
       "?     454\n",
       "Name: urbanicity, dtype: int64"
      ]
     },
     "execution_count": 118,
     "metadata": {},
     "output_type": "execute_result"
    }
   ],
   "source": [
    "df.urbanicity.value_counts()"
   ]
  },
  {
   "cell_type": "markdown",
   "metadata": {},
   "source": [
    "Same as for SES, '?' values are simply removed"
   ]
  },
  {
   "cell_type": "markdown",
   "metadata": {},
   "source": [
    "#### WEALTH_RATING\n",
    "one of 10 possible wealth rating groups based on a number of demographic characteristics"
   ]
  },
  {
   "cell_type": "code",
   "execution_count": 119,
   "metadata": {},
   "outputs": [
    {
     "name": "stderr",
     "output_type": "stream",
     "text": [
      "C:\\Users\\Aldina\\anaconda3\\envs\\py37\\lib\\site-packages\\seaborn\\distributions.py:2551: FutureWarning: `distplot` is a deprecated function and will be removed in a future version. Please adapt your code to use either `displot` (a figure-level function with similar flexibility) or `histplot` (an axes-level function for histograms).\n",
      "  warnings.warn(msg, FutureWarning)\n"
     ]
    },
    {
     "data": {
      "text/plain": [
       "<AxesSubplot:xlabel='wealth_rating', ylabel='Density'>"
      ]
     },
     "execution_count": 119,
     "metadata": {},
     "output_type": "execute_result"
    },
    {
     "data": {
      "image/png": "[encoded data removed]",
      "text/plain": [
       "<Figure size 432x288 with 1 Axes>"
      ]
     },
     "metadata": {
      "needs_background": "light"
     },
     "output_type": "display_data"
    }
   ],
   "source": [
    "sns.distplot(df.wealth_rating)"
   ]
  },
  {
   "cell_type": "code",
   "execution_count": 120,
   "metadata": {},
   "outputs": [
    {
     "data": {
      "text/plain": [
       "9.0    1390\n",
       "8.0    1248\n",
       "7.0    1199\n",
       "6.0    1117\n",
       "5.0    1078\n",
       "3.0    1046\n",
       "4.0     987\n",
       "2.0     974\n",
       "1.0     854\n",
       "0.0     669\n",
       "Name: wealth_rating, dtype: int64"
      ]
     },
     "execution_count": 120,
     "metadata": {},
     "output_type": "execute_result"
    }
   ],
   "source": [
    "df.wealth_rating.value_counts()"
   ]
  },
  {
   "cell_type": "markdown",
   "metadata": {},
   "source": [
    "Let's check correlations"
   ]
  },
  {
   "cell_type": "code",
   "execution_count": 121,
   "metadata": {},
   "outputs": [
    {
     "data": {
      "text/plain": [
       "wealth_rating              1.00\n",
       "median_household_income    0.60\n",
       "ses                        0.53\n",
       "per_capita_income          0.52\n",
       "income_group               0.42\n",
       "median_home_value          0.39\n",
       "pct_owner_occupied         0.23\n",
       "urbanicity                 0.18\n",
       "home_owner                 0.14\n",
       "pct_attribute3             0.12\n",
       "Name: wealth_rating, dtype: float64"
      ]
     },
     "execution_count": 121,
     "metadata": {},
     "output_type": "execute_result"
    }
   ],
   "source": [
    "df_label_encoded.corr().abs()['wealth_rating'].sort_values(ascending=False)[:10]"
   ]
  },
  {
   "cell_type": "code",
   "execution_count": 122,
   "metadata": {},
   "outputs": [
    {
     "data": {
      "text/plain": [
       "<AxesSubplot:xlabel='wealth_rating', ylabel='median_household_income'>"
      ]
     },
     "execution_count": 122,
     "metadata": {},
     "output_type": "execute_result"
    },
    {
     "data": {
      "image/png": "[encoded data removed]",
      "text/plain": [
       "<Figure size 432x288 with 1 Axes>"
      ]
     },
     "metadata": {
      "needs_background": "light"
     },
     "output_type": "display_data"
    }
   ],
   "source": [
    "sns.barplot(data=df,x=\"wealth_rating\",y=\"median_household_income\")"
   ]
  },
  {
   "cell_type": "markdown",
   "metadata": {},
   "source": [
    "the same strategy as in income_group will be adopted"
   ]
  },
  {
   "cell_type": "code",
   "execution_count": 123,
   "metadata": {},
   "outputs": [],
   "source": [
    "#binning\n",
    "df['median_household_bin'] = pd.qcut(df.median_household_income,9,labels=False)\n",
    "#imputation\n",
    "df['wealth_rating'] = df.groupby(['median_household_bin'], sort=False)['wealth_rating'].apply(lambda x: x.fillna(x.mean())).copy()\n",
    "df['wealth_rating'] = df['wealth_rating'].round()\n",
    "df.drop('median_household_bin',axis=1,inplace=True)"
   ]
  },
  {
   "cell_type": "markdown",
   "metadata": {},
   "source": [
    "to help with the rest of the EDA we'll use the pandas profilling tool:"
   ]
  },
  {
   "cell_type": "code",
   "execution_count": 124,
   "metadata": {},
   "outputs": [],
   "source": [
    "#import data and drop duplicates or irrelevant\n",
    "raw_df = pd.read_csv(\"Donors_dataset.csv\")\n",
    "df = raw_df.drop([\"FILE_AVG_GIFT\",\"CONTROL_NUMBER\"],axis = 1)\n",
    "\n",
    "#reorder df columns in alphabetical order\n",
    "ordered_names = list(df.columns)\n",
    "ordered_names.sort()\n",
    "df = df[ordered_names]\n",
    "#column names to lowercase\n",
    "df.columns = df.columns.str.lower()"
   ]
  },
  {
   "cell_type": "code",
   "execution_count": 125,
   "metadata": {},
   "outputs": [],
   "source": [
    "#run the following to install pandas-proffiling conda install -c conda-forge pandas-profiling\n",
    "from pandas_profiling import ProfileReport\n",
    "profile = ProfileReport(df, title=\"df Report\",explorative=True)\n",
    "\n",
    "profile.to_widgets()"
   ]
  }
 ],
 "metadata": {
  "kernelspec": {
   "display_name": "Python 3",
   "language": "python",
   "name": "python3"
  },
  "language_info": {
   "codemirror_mode": {
    "name": "ipython",
    "version": 3
   },
   "file_extension": ".py",
   "mimetype": "text/x-python",
   "name": "python",
   "nbconvert_exporter": "python",
   "pygments_lexer": "ipython3",
   "version": "3.7.9"
  },
  "widgets": {
   "application/vnd.jupyter.widget-state+json": {
    "state": {},
    "version_major": 2,
    "version_minor": 0
   }
  }
 },
 "nbformat": 4,
 "nbformat_minor": 4
}
